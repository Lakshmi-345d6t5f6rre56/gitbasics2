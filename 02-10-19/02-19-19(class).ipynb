{
 "cells": [
  {
   "cell_type": "markdown",
   "metadata": {},
   "source": [
    "## Regular expressions"
   ]
  },
  {
   "cell_type": "code",
   "execution_count": null,
   "metadata": {},
   "outputs": [],
   "source": [
    "1.abc:-that matches the character sequence anywhere in the string.\n",
    "2.^:-begining of the string.\n",
    "3.$:-end of the string.\n",
    "4.a|b:-eithe a or b.\n",
    "5.^abc|abc$:-the string abc at thye begining or at the end of the string.\n",
    "6.ab{2,4}c:-an a followed by b's followed by a c.\n",
    "7.ab{2,}can a followed by a atleast 2b'sfollowed by a c.\n",
    "8.ab*c:-abbbbbbbc|ac it will accept\n",
    "9.ab+c:-abc|abbbc only accept.\n",
    "10.a.c:-in b/w a nd c accept one string.\n",
    "    "
   ]
  },
  {
   "cell_type": "markdown",
   "metadata": {},
   "source": [
    "## phone number validation"
   ]
  },
  {
   "cell_type": "code",
   "execution_count": 6,
   "metadata": {},
   "outputs": [
    {
     "data": {
      "text/plain": [
       "1"
      ]
     },
     "execution_count": 6,
     "metadata": {},
     "output_type": "execute_result"
    }
   ],
   "source": [
    "#^[0][6-9][0-9]{9}$  .... 10 gigit number starting with zero\n",
    "#^+91[0-9][0-9]{9}$  ....10 gigit number starting with +91\n",
    "#^[6-9][0-9]{9}$     ....10 digit number\n",
    "import re\n",
    "def phoneno(no):\n",
    "    pattern='^[+][9][1][6-9][0-9]{9}$|^[6-9][0-9]{9}$|^[0][6-9][0-9]{9}$'\n",
    "    if re.match(pattern,no):\n",
    "        return 1\n",
    "    else:\n",
    "        return 0\n",
    "phoneno(\"+916304496188\")\n",
    "phoneno(\"06304496188\")\n",
    "phoneno(\"8790695442\")"
   ]
  },
  {
   "cell_type": "markdown",
   "metadata": {},
   "source": [
    "## email validation"
   ]
  },
  {
   "cell_type": "code",
   "execution_count": 10,
   "metadata": {},
   "outputs": [
    {
     "data": {
      "text/plain": [
       "1"
      ]
     },
     "execution_count": 10,
     "metadata": {},
     "output_type": "execute_result"
    }
   ],
   "source": [
    "import re\n",
    "def email(n):\n",
    "    pattern='^([a-z]|[A-Z]|[0-9])([a-z]|[A-Z]|[0-9]|[_]|[.]){6,14}([0-9]|[a-z])@[a-z]{2,10}[.][a-z]{2,4}$'\n",
    "    if re.match(pattern,n):\n",
    "        return 1\n",
    "    else:\n",
    "        return 0\n",
    "email(\"k.lakshmisudha98@gmail.com\")\n"
   ]
  },
  {
   "cell_type": "markdown",
   "metadata": {},
   "source": [
    "## add contact"
   ]
  },
  {
   "cell_type": "code",
   "execution_count": 14,
   "metadata": {},
   "outputs": [
    {
     "ename": "IndentationError",
     "evalue": "expected an indented block (<ipython-input-14-5a1b55455f62>, line 6)",
     "output_type": "error",
     "traceback": [
      "\u001b[1;36m  File \u001b[1;32m\"<ipython-input-14-5a1b55455f62>\"\u001b[1;36m, line \u001b[1;32m6\u001b[0m\n\u001b[1;33m    addcontact(\"8790695442\",\"k.lakshmisudha98@gmail.com\")\u001b[0m\n\u001b[1;37m                                                         ^\u001b[0m\n\u001b[1;31mIndentationError\u001b[0m\u001b[1;31m:\u001b[0m expected an indented block\n"
     ]
    }
   ],
   "source": [
    "d={\"name\":[\"8790695442\",\"k.lakshmisudha98@gmail.com\"],\"name\":[\"6304496188\",\"lekireddygayathri88@gmail.com\"]}\n",
    "def addcontact(no,emal):\n",
    "    for i in d:\n",
    "        print(it is pressent)\n",
    "    else:\n",
    "        print(not pressent)\n",
    "addcontact(\"8790695442\",\"k.lakshmisudha98@gmail.com\")"
   ]
  },
  {
   "cell_type": "code",
   "execution_count": null,
   "metadata": {},
   "outputs": [],
   "source": []
  }
 ],
 "metadata": {
  "kernelspec": {
   "display_name": "Python 3",
   "language": "python",
   "name": "python3"
  },
  "language_info": {
   "codemirror_mode": {
    "name": "ipython",
    "version": 3
   },
   "file_extension": ".py",
   "mimetype": "text/x-python",
   "name": "python",
   "nbconvert_exporter": "python",
   "pygments_lexer": "ipython3",
   "version": "3.7.3"
  }
 },
 "nbformat": 4,
 "nbformat_minor": 2
}
