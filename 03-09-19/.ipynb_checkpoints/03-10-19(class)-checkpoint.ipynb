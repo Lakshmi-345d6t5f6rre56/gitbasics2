{
 "cells": [
  {
   "cell_type": "markdown",
   "metadata": {},
   "source": [
    "# file handling in python\n",
    "    read--r(print)(i/p)  \n",
    "    write--w(o/p)\n",
    "    append--a\n",
    "    read&write--r+\n",
    "    write&read--w+\n",
    "    append&read--a+\n",
    "    exclusive write--x"
   ]
  },
  {
   "cell_type": "code",
   "execution_count": 1,
   "metadata": {},
   "outputs": [],
   "source": [
    "# file opening\n",
    "#file=open(\"filename.extenction\",\"mode\")\n"
   ]
  },
  {
   "cell_type": "code",
   "execution_count": 12,
   "metadata": {},
   "outputs": [],
   "source": [
    "#create a file and add some content\n",
    "f=open(\"lucky.txt\",'w')\n",
    "f.write(\"welcome to my world\")\n",
    "f.write(\"\\nit is a python class\\n\")\n",
    "f.close()"
   ]
  },
  {
   "cell_type": "code",
   "execution_count": 13,
   "metadata": {},
   "outputs": [
    {
     "name": "stdout",
     "output_type": "stream",
     "text": [
      "welcome to my world\n",
      "it is a python class\n",
      "\n"
     ]
    }
   ],
   "source": [
    "# print content of a file\n",
    "x=open(\"lucky.txt\",'r')\n",
    "y=x.read()\n",
    "print(y)\n",
    "#x.close()"
   ]
  },
  {
   "cell_type": "code",
   "execution_count": 14,
   "metadata": {},
   "outputs": [
    {
     "name": "stdout",
     "output_type": "stream",
     "text": [
      "welcome to my world\n",
      "it is a python class\n",
      "\n"
     ]
    }
   ],
   "source": [
    "#function to print data of a file\n",
    "def read(file):\n",
    "    file=open(\"lucky.txt\",'r')\n",
    "    data=file.read()\n",
    "    print(data)\n",
    "file=\"lucky.txt\"\n",
    "read(file)\n",
    "    "
   ]
  },
  {
   "cell_type": "code",
   "execution_count": 36,
   "metadata": {},
   "outputs": [],
   "source": [
    "def write(file):\n",
    "    file=open(\"lucky.txt\",'w')\n",
    "    file.write(\"mstp apssdc\")\n",
    "write(file)    "
   ]
  },
  {
   "cell_type": "code",
   "execution_count": 37,
   "metadata": {},
   "outputs": [],
   "source": [
    "def write(file):\n",
    "    file=open(\"lucky.txt\",'a')\n",
    "    file.write(\"\\nclasses are running\\n\")\n",
    "    file.write(\"welcome\\n\")\n",
    "    file.write(\"to\\n\")\n",
    "    file.write(\"python\\n\")\n",
    "    file.close()\n",
    "file=\"lucky.txt\"\n",
    "write(file)\n"
   ]
  },
  {
   "cell_type": "code",
   "execution_count": 38,
   "metadata": {},
   "outputs": [
    {
     "name": "stdout",
     "output_type": "stream",
     "text": [
      "mstp apssdc\n",
      "classes are running\n",
      "welcome\n",
      "to\n",
      "python\n",
      "\n"
     ]
    }
   ],
   "source": [
    "def read(file):\n",
    "    file=open(\"lucky.txt\",'r')\n",
    "    data=file.read()\n",
    "    print(data)\n",
    "file=\"lucky.txt\"\n",
    "read(file)\n",
    "    "
   ]
  },
  {
   "cell_type": "code",
   "execution_count": 39,
   "metadata": {},
   "outputs": [
    {
     "name": "stdout",
     "output_type": "stream",
     "text": [
      "mstp apssdc\n",
      "\n"
     ]
    }
   ],
   "source": [
    "file=open(\"lucky.txt\",'r')\n",
    "x=file.readline()\n",
    "print(x)\n"
   ]
  },
  {
   "cell_type": "code",
   "execution_count": 40,
   "metadata": {},
   "outputs": [
    {
     "name": "stdout",
     "output_type": "stream",
     "text": [
      "mstp apssdc\n",
      "\n"
     ]
    }
   ],
   "source": [
    "file=open(\"lucky.txt\",'r')\n",
    "y=file.readline()\n",
    "print(y)"
   ]
  },
  {
   "cell_type": "code",
   "execution_count": null,
   "metadata": {},
   "outputs": [],
   "source": []
  }
 ],
 "metadata": {
  "kernelspec": {
   "display_name": "Python 3",
   "language": "python",
   "name": "python3"
  },
  "language_info": {
   "codemirror_mode": {
    "name": "ipython",
    "version": 3
   },
   "file_extension": ".py",
   "mimetype": "text/x-python",
   "name": "python",
   "nbconvert_exporter": "python",
   "pygments_lexer": "ipython3",
   "version": "3.7.3"
  }
 },
 "nbformat": 4,
 "nbformat_minor": 2
}
