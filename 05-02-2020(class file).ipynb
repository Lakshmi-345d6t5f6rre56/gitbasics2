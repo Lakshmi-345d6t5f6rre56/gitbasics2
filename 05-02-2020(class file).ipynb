{
 "cells": [
  {
   "cell_type": "markdown",
   "metadata": {},
   "source": [
    "### machine learning:\n",
    "    machine learning is not just a simple algorithm with you can put anywhere and start getting results.it is a proces that starts with definingdat,and ends with the model with some defined level of accuracy\n",
    "### steps involved in machine learning\n",
    "     1.defining the problem(p:performence,e:experience,t:task)\n",
    "     2.collecting the data\n",
    "     3.prepare the dat\n",
    "     4.split the data in training and testing\n",
    "     5.algorithm selection\n",
    "     6.training the algorithm\n",
    "     7.evolution on test data\n",
    "     8.parameter tuning\n",
    "     9.start using your model\n",
    "### machine learning types\n",
    "     1.supervised learning:same kind of data\n",
    "     2.unsupervised learning:To pridict an diffrent kind of data\n",
    "     3.rainforcement learning\n",
    "     \n",
    "     \n",
    "                            machine learning types\n",
    "                           \n",
    "                           \n",
    "          supervised           unsupervised         Rainforcement\n",
    "        1.clasification       1.clustering         * 1.s/w component learns to react to \n",
    "        2.regression          2.association           an environment \n",
    "        \n",
    " ### algorithms\n",
    "      classification                         regration                    clustering\n",
    "      1.decission trees                    1.simple linear regression       1.k-means\n",
    "      2.bayesian networks                        model                      2.mean-shift\n",
    "      3.support vector machines            2.lasso regression               3.gaussian mixure\n",
    "      4.random forest                      3.logistic regression            4.EM-clustering       \n",
    "      5.nural n/w                          4.multiple regression            5.hierarical       \n",
    "                                           5.boosting                         clustering\n",
    " ### linear regression\n",
    "      1.y=f(x) \n",
    "             where x=independent veriable\n",
    "                   y=dependent veriable\n",
    "      2.y=b1+b0\n",
    "             where b1=slope\n",
    "                   b0=intercept\n",
    "      3.y=b1x+b0+error\n",
    "      4.root mean square error:slope(b1)=sum(x-mean of x))(y-(mean of y))/sum(x-mean of y)^2\n",
    "      5.r-squared value=sumation(y predicted mean of y)^2/sumation(y-mean of y)^2\n",
    "      6.mean square error(cost function)----MSE(x,h(theta(transpose).x(i)-y(i)^2\n",
    "        \n",
    "                                                                 \n",
    "\n",
    "        \n",
    "        \n",
    "     "
   ]
  },
  {
   "cell_type": "code",
   "execution_count": 1,
   "metadata": {},
   "outputs": [],
   "source": [
    "import pandas as pd\n",
    "import numpy as np\n",
    "import matplotlib.pyplot as plt"
   ]
  },
  {
   "cell_type": "code",
   "execution_count": 2,
   "metadata": {},
   "outputs": [
    {
     "data": {
      "text/html": [
       "<div>\n",
       "<style scoped>\n",
       "    .dataframe tbody tr th:only-of-type {\n",
       "        vertical-align: middle;\n",
       "    }\n",
       "\n",
       "    .dataframe tbody tr th {\n",
       "        vertical-align: top;\n",
       "    }\n",
       "\n",
       "    .dataframe thead th {\n",
       "        text-align: right;\n",
       "    }\n",
       "</style>\n",
       "<table border=\"1\" class=\"dataframe\">\n",
       "  <thead>\n",
       "    <tr style=\"text-align: right;\">\n",
       "      <th></th>\n",
       "      <th>Unnamed: 0</th>\n",
       "      <th>TV</th>\n",
       "      <th>radio</th>\n",
       "      <th>newspaper</th>\n",
       "      <th>sales</th>\n",
       "    </tr>\n",
       "  </thead>\n",
       "  <tbody>\n",
       "    <tr>\n",
       "      <th>195</th>\n",
       "      <td>196</td>\n",
       "      <td>38.2</td>\n",
       "      <td>3.7</td>\n",
       "      <td>13.8</td>\n",
       "      <td>7.6</td>\n",
       "    </tr>\n",
       "    <tr>\n",
       "      <th>196</th>\n",
       "      <td>197</td>\n",
       "      <td>94.2</td>\n",
       "      <td>4.9</td>\n",
       "      <td>8.1</td>\n",
       "      <td>9.7</td>\n",
       "    </tr>\n",
       "    <tr>\n",
       "      <th>197</th>\n",
       "      <td>198</td>\n",
       "      <td>177.0</td>\n",
       "      <td>9.3</td>\n",
       "      <td>6.4</td>\n",
       "      <td>12.8</td>\n",
       "    </tr>\n",
       "    <tr>\n",
       "      <th>198</th>\n",
       "      <td>199</td>\n",
       "      <td>283.6</td>\n",
       "      <td>42.0</td>\n",
       "      <td>66.2</td>\n",
       "      <td>25.5</td>\n",
       "    </tr>\n",
       "    <tr>\n",
       "      <th>199</th>\n",
       "      <td>200</td>\n",
       "      <td>232.1</td>\n",
       "      <td>8.6</td>\n",
       "      <td>8.7</td>\n",
       "      <td>13.4</td>\n",
       "    </tr>\n",
       "  </tbody>\n",
       "</table>\n",
       "</div>"
      ],
      "text/plain": [
       "     Unnamed: 0     TV  radio  newspaper  sales\n",
       "195         196   38.2    3.7       13.8    7.6\n",
       "196         197   94.2    4.9        8.1    9.7\n",
       "197         198  177.0    9.3        6.4   12.8\n",
       "198         199  283.6   42.0       66.2   25.5\n",
       "199         200  232.1    8.6        8.7   13.4"
      ]
     },
     "execution_count": 2,
     "metadata": {},
     "output_type": "execute_result"
    }
   ],
   "source": [
    "## reading the data\n",
    "data=pd.read_csv(\"advertising.csv\")\n",
    "data.tail()"
   ]
  },
  {
   "cell_type": "code",
   "execution_count": 3,
   "metadata": {},
   "outputs": [
    {
     "data": {
      "text/html": [
       "<div>\n",
       "<style scoped>\n",
       "    .dataframe tbody tr th:only-of-type {\n",
       "        vertical-align: middle;\n",
       "    }\n",
       "\n",
       "    .dataframe tbody tr th {\n",
       "        vertical-align: top;\n",
       "    }\n",
       "\n",
       "    .dataframe thead th {\n",
       "        text-align: right;\n",
       "    }\n",
       "</style>\n",
       "<table border=\"1\" class=\"dataframe\">\n",
       "  <thead>\n",
       "    <tr style=\"text-align: right;\">\n",
       "      <th></th>\n",
       "      <th>TV</th>\n",
       "      <th>radio</th>\n",
       "      <th>newspaper</th>\n",
       "      <th>sales</th>\n",
       "    </tr>\n",
       "  </thead>\n",
       "  <tbody>\n",
       "    <tr>\n",
       "      <th>195</th>\n",
       "      <td>38.2</td>\n",
       "      <td>3.7</td>\n",
       "      <td>13.8</td>\n",
       "      <td>7.6</td>\n",
       "    </tr>\n",
       "    <tr>\n",
       "      <th>196</th>\n",
       "      <td>94.2</td>\n",
       "      <td>4.9</td>\n",
       "      <td>8.1</td>\n",
       "      <td>9.7</td>\n",
       "    </tr>\n",
       "    <tr>\n",
       "      <th>197</th>\n",
       "      <td>177.0</td>\n",
       "      <td>9.3</td>\n",
       "      <td>6.4</td>\n",
       "      <td>12.8</td>\n",
       "    </tr>\n",
       "    <tr>\n",
       "      <th>198</th>\n",
       "      <td>283.6</td>\n",
       "      <td>42.0</td>\n",
       "      <td>66.2</td>\n",
       "      <td>25.5</td>\n",
       "    </tr>\n",
       "    <tr>\n",
       "      <th>199</th>\n",
       "      <td>232.1</td>\n",
       "      <td>8.6</td>\n",
       "      <td>8.7</td>\n",
       "      <td>13.4</td>\n",
       "    </tr>\n",
       "  </tbody>\n",
       "</table>\n",
       "</div>"
      ],
      "text/plain": [
       "        TV  radio  newspaper  sales\n",
       "195   38.2    3.7       13.8    7.6\n",
       "196   94.2    4.9        8.1    9.7\n",
       "197  177.0    9.3        6.4   12.8\n",
       "198  283.6   42.0       66.2   25.5\n",
       "199  232.1    8.6        8.7   13.4"
      ]
     },
     "execution_count": 3,
     "metadata": {},
     "output_type": "execute_result"
    }
   ],
   "source": [
    "data.drop(\"Unnamed: 0\",axis=1,inplace=True)\n",
    "data.tail()"
   ]
  },
  {
   "cell_type": "code",
   "execution_count": 4,
   "metadata": {},
   "outputs": [
    {
     "data": {
      "text/plain": [
       "array([230.1,  44.5,  17.2, 151.5, 180.8,   8.7,  57.5, 120.2,   8.6,\n",
       "       199.8,  66.1, 214.7,  23.8,  97.5, 204.1, 195.4,  67.8, 281.4,\n",
       "        69.2, 147.3, 218.4, 237.4,  13.2, 228.3,  62.3, 262.9, 142.9,\n",
       "       240.1, 248.8,  70.6, 292.9, 112.9,  97.2, 265.6,  95.7, 290.7,\n",
       "       266.9,  74.7,  43.1, 228. , 202.5, 177. , 293.6, 206.9,  25.1,\n",
       "       175.1,  89.7, 239.9, 227.2,  66.9, 199.8, 100.4, 216.4, 182.6,\n",
       "       262.7, 198.9,   7.3, 136.2, 210.8, 210.7,  53.5, 261.3, 239.3,\n",
       "       102.7, 131.1,  69. ,  31.5, 139.3, 237.4, 216.8, 199.1, 109.8,\n",
       "        26.8, 129.4, 213.4,  16.9,  27.5, 120.5,   5.4, 116. ,  76.4,\n",
       "       239.8,  75.3,  68.4, 213.5, 193.2,  76.3, 110.7,  88.3, 109.8,\n",
       "       134.3,  28.6, 217.7, 250.9, 107.4, 163.3, 197.6, 184.9, 289.7,\n",
       "       135.2, 222.4, 296.4, 280.2, 187.9, 238.2, 137.9,  25. ,  90.4,\n",
       "        13.1, 255.4, 225.8, 241.7, 175.7, 209.6,  78.2,  75.1, 139.2,\n",
       "        76.4, 125.7,  19.4, 141.3,  18.8, 224. , 123.1, 229.5,  87.2,\n",
       "         7.8,  80.2, 220.3,  59.6,   0.7, 265.2,   8.4, 219.8,  36.9,\n",
       "        48.3,  25.6, 273.7,  43. , 184.9,  73.4, 193.7, 220.5, 104.6,\n",
       "        96.2, 140.3, 240.1, 243.2,  38. ,  44.7, 280.7, 121. , 197.6,\n",
       "       171.3, 187.8,   4.1,  93.9, 149.8,  11.7, 131.7, 172.5,  85.7,\n",
       "       188.4, 163.5, 117.2, 234.5,  17.9, 206.8, 215.4, 284.3,  50. ,\n",
       "       164.5,  19.6, 168.4, 222.4, 276.9, 248.4, 170.2, 276.7, 165.6,\n",
       "       156.6, 218.5,  56.2, 287.6, 253.8, 205. , 139.5, 191.1, 286. ,\n",
       "        18.7,  39.5,  75.5,  17.2, 166.8, 149.7,  38.2,  94.2, 177. ,\n",
       "       283.6, 232.1])"
      ]
     },
     "execution_count": 4,
     "metadata": {},
     "output_type": "execute_result"
    }
   ],
   "source": [
    "x=data[\"TV\"].values\n",
    "x"
   ]
  },
  {
   "cell_type": "code",
   "execution_count": 5,
   "metadata": {},
   "outputs": [
    {
     "data": {
      "text/plain": [
       "array([22.1, 10.4,  9.3, 18.5, 12.9,  7.2, 11.8, 13.2,  4.8, 10.6,  8.6,\n",
       "       17.4,  9.2,  9.7, 19. , 22.4, 12.5, 24.4, 11.3, 14.6, 18. , 12.5,\n",
       "        5.6, 15.5,  9.7, 12. , 15. , 15.9, 18.9, 10.5, 21.4, 11.9,  9.6,\n",
       "       17.4,  9.5, 12.8, 25.4, 14.7, 10.1, 21.5, 16.6, 17.1, 20.7, 12.9,\n",
       "        8.5, 14.9, 10.6, 23.2, 14.8,  9.7, 11.4, 10.7, 22.6, 21.2, 20.2,\n",
       "       23.7,  5.5, 13.2, 23.8, 18.4,  8.1, 24.2, 15.7, 14. , 18. ,  9.3,\n",
       "        9.5, 13.4, 18.9, 22.3, 18.3, 12.4,  8.8, 11. , 17. ,  8.7,  6.9,\n",
       "       14.2,  5.3, 11. , 11.8, 12.3, 11.3, 13.6, 21.7, 15.2, 12. , 16. ,\n",
       "       12.9, 16.7, 11.2,  7.3, 19.4, 22.2, 11.5, 16.9, 11.7, 15.5, 25.4,\n",
       "       17.2, 11.7, 23.8, 14.8, 14.7, 20.7, 19.2,  7.2,  8.7,  5.3, 19.8,\n",
       "       13.4, 21.8, 14.1, 15.9, 14.6, 12.6, 12.2,  9.4, 15.9,  6.6, 15.5,\n",
       "        7. , 11.6, 15.2, 19.7, 10.6,  6.6,  8.8, 24.7,  9.7,  1.6, 12.7,\n",
       "        5.7, 19.6, 10.8, 11.6,  9.5, 20.8,  9.6, 20.7, 10.9, 19.2, 20.1,\n",
       "       10.4, 11.4, 10.3, 13.2, 25.4, 10.9, 10.1, 16.1, 11.6, 16.6, 19. ,\n",
       "       15.6,  3.2, 15.3, 10.1,  7.3, 12.9, 14.4, 13.3, 14.9, 18. , 11.9,\n",
       "       11.9,  8. , 12.2, 17.1, 15. ,  8.4, 14.5,  7.6, 11.7, 11.5, 27. ,\n",
       "       20.2, 11.7, 11.8, 12.6, 10.5, 12.2,  8.7, 26.2, 17.6, 22.6, 10.3,\n",
       "       17.3, 15.9,  6.7, 10.8,  9.9,  5.9, 19.6, 17.3,  7.6,  9.7, 12.8,\n",
       "       25.5, 13.4])"
      ]
     },
     "execution_count": 5,
     "metadata": {},
     "output_type": "execute_result"
    }
   ],
   "source": [
    "y=data[\"sales\"].values\n",
    "y"
   ]
  },
  {
   "cell_type": "code",
   "execution_count": 6,
   "metadata": {},
   "outputs": [
    {
     "name": "stdout",
     "output_type": "stream",
     "text": [
      "(200,)\n"
     ]
    }
   ],
   "source": [
    "x=data[\"TV\"].values\n",
    "print(x.shape)"
   ]
  },
  {
   "cell_type": "code",
   "execution_count": 7,
   "metadata": {},
   "outputs": [
    {
     "name": "stdout",
     "output_type": "stream",
     "text": [
      "(200,)\n"
     ]
    }
   ],
   "source": [
    "y=data[\"sales\"].values\n",
    "print(y.shape)"
   ]
  },
  {
   "cell_type": "markdown",
   "metadata": {},
   "source": [
    "## mean calculation"
   ]
  },
  {
   "cell_type": "code",
   "execution_count": 8,
   "metadata": {},
   "outputs": [
    {
     "name": "stdout",
     "output_type": "stream",
     "text": [
      "x mean : 147.0425\n",
      "y mean : 14.0225\n"
     ]
    }
   ],
   "source": [
    "\n",
    "x_mean=np.mean(x)\n",
    "print(\"x mean :\",x_mean)\n",
    "y_mean=np.mean(y)\n",
    "print(\"y mean :\",y_mean)"
   ]
  },
  {
   "cell_type": "markdown",
   "metadata": {},
   "source": [
    "### calculating error"
   ]
  },
  {
   "cell_type": "code",
   "execution_count": 9,
   "metadata": {},
   "outputs": [
    {
     "name": "stdout",
     "output_type": "stream",
     "text": [
      "200\n",
      "slope: 9.637841796722846\n",
      "intercepts : -1403.1498523946188\n"
     ]
    }
   ],
   "source": [
    "n=len(x)\n",
    "print(n)\n",
    "numer=0            ## y=b1x+b0 b1=slope,b0=intercept\n",
    "denom=0\n",
    "for i in range(n):\n",
    "    numer+=(x[i]-x_mean)*(y[i]-y_mean)\n",
    "    denom=(x[i]-x_mean)**2\n",
    "b1=numer/denom\n",
    "b0=y_mean-(b1*x_mean)\n",
    "print(\"slope:\",b1)\n",
    "print(\"intercepts :\",b0)\n",
    "    \n"
   ]
  },
  {
   "cell_type": "code",
   "execution_count": 10,
   "metadata": {},
   "outputs": [
    {
     "name": "stdout",
     "output_type": "stream",
     "text": [
      "linear equation :y=9.6378x+-1.403e+03\n"
     ]
    }
   ],
   "source": [
    "#y=mx+c\n",
    "print(\"linear equation :y={:.5}x+{:.4}\".format(b1,b0))"
   ]
  },
  {
   "cell_type": "code",
   "execution_count": 11,
   "metadata": {},
   "outputs": [
    {
     "data": {
      "text/plain": [
       "array([  814.51754503,  -974.26589244, -1237.37897349,    56.98317981,\n",
       "         339.37194445, -1319.30062876,  -848.97394908,  -244.68126843,\n",
       "       -1320.26441294,   522.49093859,  -766.08850963,   666.09478136,\n",
       "       -1173.76921763,  -463.46027721,   563.93365832,   480.08443469,\n",
       "        -749.70417858,  1308.9388292 ,  -736.21120006,    16.50424426,\n",
       "         701.75479601,   884.87379015, -1275.93034068,   797.1694298 ,\n",
       "        -802.71230846,  1130.63875596,   -25.90225964,   910.895963  ,\n",
       "         994.74518663,  -722.71822155,  1419.77400987,  -315.03751354,\n",
       "        -466.35162975,  1156.66092881,  -480.80839245,  1398.57075791,\n",
       "        1169.19012315,  -683.20307018,  -987.75887096,   794.27807726,\n",
       "         548.51311144,   302.74814563,  1426.52049912,   590.91961535,\n",
       "       -1161.2400233 ,   284.43624621,  -538.63544323,   908.96839464,\n",
       "         786.56780382,  -758.37823619,   522.49093859,  -435.510536  ,\n",
       "         682.47911242,   356.72005969,  1128.7111876 ,   513.81688097,\n",
       "       -1332.79360728,   -90.47579968,   628.50719835,   627.54341417,\n",
       "        -887.52531627,  1115.21820909,   903.18568956,  -413.34349987,\n",
       "        -139.62879284,  -738.13876842, -1099.5578358 ,   -60.59849011,\n",
       "         884.87379015,   686.33424913,   515.74444933,  -344.91482311,\n",
       "       -1144.85569224,  -156.0131239 ,   653.56558703, -1240.27032603,\n",
       "       -1138.10920298,  -241.78991589, -1351.10550669,  -285.16020397,\n",
       "        -666.81873912,   908.00461046,  -677.4203651 ,  -743.9214735 ,\n",
       "         654.52937121,   458.88118273,  -667.7825233 ,  -336.2407655 ,\n",
       "        -552.12842174,  -344.91482311,  -108.78769909, -1127.50757701,\n",
       "         695.00830675,  1014.9846544 ,  -368.04564343,   170.70971301,\n",
       "         501.28768664,   378.88709582,  1388.93291612,  -100.11364148,\n",
       "         740.3061632 ,  1453.50645615,  1297.37341905,   407.80062121,\n",
       "         892.58406358,   -74.09146863, -1162.20380748,  -531.88895397,\n",
       "       -1276.89412486,  1058.35494249,   773.07482531,   926.31650987,\n",
       "         290.21895129,   616.9417882 ,  -649.47062389,  -679.34793346,\n",
       "         -61.56227429,  -666.81873912,  -191.67313855, -1216.17572154,\n",
       "         -41.32280652, -1221.95842662,   755.72671007,  -216.73152722,\n",
       "         808.73483995,  -562.73004772, -1327.97468638,  -630.1949403 ,\n",
       "         720.06669542,  -828.73448131, -1396.40336314,  1152.8057921 ,\n",
       "       -1322.1919813 ,   715.24777453, -1047.5134901 ,  -937.64209361,\n",
       "       -1156.4211024 ,  1234.72744737,  -988.72265514,   378.88709582,\n",
       "        -695.73226452,   463.70010363,   721.99426378,  -395.03160046,\n",
       "        -475.98947155,   -50.96064831,   910.895963  ,   940.77327257,\n",
       "       -1036.91186412,  -972.33832408,  1302.19233995,  -236.97099499,\n",
       "         501.28768664,   247.81244738,   406.83683703, -1363.63470103,\n",
       "        -498.15650768,    40.59884875, -1290.38710337,  -133.84608777,\n",
       "         259.37785754,  -577.18681042,   412.61954211,   172.63728137,\n",
       "        -273.59479382,   856.92404894, -1230.63248423,   589.95583117,\n",
       "         672.84127062,  1336.88857041,  -921.25776256,   182.27512317,\n",
       "       -1214.24815318,   219.86270617,   740.3061632 ,  1265.56854112,\n",
       "         990.89004991,   237.21082141,  1263.64097276,   192.87674914,\n",
       "         106.13617297,   702.71858019,  -861.50314342,  1368.69344834,\n",
       "        1042.93439561,   572.60771593,   -58.67092175,   438.64171496,\n",
       "        1353.27290147, -1222.9222108 , -1022.45510142,  -675.49279674,\n",
       "       -1237.37897349,   204.4421593 ,    39.63506457, -1034.98429576,\n",
       "        -495.26515514,   302.74814563,  1330.14208116,   833.79322862])"
      ]
     },
     "execution_count": 11,
     "metadata": {},
     "output_type": "execute_result"
    }
   ],
   "source": [
    "y=b1*x+b0\n",
    "y"
   ]
  },
  {
   "cell_type": "code",
   "execution_count": 12,
   "metadata": {},
   "outputs": [
    {
     "data": {
      "text/plain": [
       "array([  814.51754503,  -974.26589244, -1237.37897349,    56.98317981,\n",
       "         339.37194445, -1319.30062876,  -848.97394908,  -244.68126843,\n",
       "       -1320.26441294,   522.49093859,  -766.08850963,   666.09478136,\n",
       "       -1173.76921763,  -463.46027721,   563.93365832,   480.08443469,\n",
       "        -749.70417858,  1308.9388292 ,  -736.21120006,    16.50424426,\n",
       "         701.75479601,   884.87379015, -1275.93034068,   797.1694298 ,\n",
       "        -802.71230846,  1130.63875596,   -25.90225964,   910.895963  ,\n",
       "         994.74518663,  -722.71822155,  1419.77400987,  -315.03751354,\n",
       "        -466.35162975,  1156.66092881,  -480.80839245,  1398.57075791,\n",
       "        1169.19012315,  -683.20307018,  -987.75887096,   794.27807726,\n",
       "         548.51311144,   302.74814563,  1426.52049912,   590.91961535,\n",
       "       -1161.2400233 ,   284.43624621,  -538.63544323,   908.96839464,\n",
       "         786.56780382,  -758.37823619,   522.49093859,  -435.510536  ,\n",
       "         682.47911242,   356.72005969,  1128.7111876 ,   513.81688097,\n",
       "       -1332.79360728,   -90.47579968,   628.50719835,   627.54341417,\n",
       "        -887.52531627,  1115.21820909,   903.18568956,  -413.34349987,\n",
       "        -139.62879284,  -738.13876842, -1099.5578358 ,   -60.59849011,\n",
       "         884.87379015,   686.33424913,   515.74444933,  -344.91482311,\n",
       "       -1144.85569224,  -156.0131239 ,   653.56558703, -1240.27032603,\n",
       "       -1138.10920298,  -241.78991589, -1351.10550669,  -285.16020397,\n",
       "        -666.81873912,   908.00461046,  -677.4203651 ,  -743.9214735 ,\n",
       "         654.52937121,   458.88118273,  -667.7825233 ,  -336.2407655 ,\n",
       "        -552.12842174,  -344.91482311,  -108.78769909, -1127.50757701,\n",
       "         695.00830675,  1014.9846544 ,  -368.04564343,   170.70971301,\n",
       "         501.28768664,   378.88709582,  1388.93291612,  -100.11364148,\n",
       "         740.3061632 ,  1453.50645615,  1297.37341905,   407.80062121,\n",
       "         892.58406358,   -74.09146863, -1162.20380748,  -531.88895397,\n",
       "       -1276.89412486,  1058.35494249,   773.07482531,   926.31650987,\n",
       "         290.21895129,   616.9417882 ,  -649.47062389,  -679.34793346,\n",
       "         -61.56227429,  -666.81873912,  -191.67313855, -1216.17572154,\n",
       "         -41.32280652, -1221.95842662,   755.72671007,  -216.73152722,\n",
       "         808.73483995,  -562.73004772, -1327.97468638,  -630.1949403 ,\n",
       "         720.06669542,  -828.73448131, -1396.40336314,  1152.8057921 ,\n",
       "       -1322.1919813 ,   715.24777453, -1047.5134901 ,  -937.64209361,\n",
       "       -1156.4211024 ,  1234.72744737,  -988.72265514,   378.88709582,\n",
       "        -695.73226452,   463.70010363,   721.99426378,  -395.03160046,\n",
       "        -475.98947155,   -50.96064831,   910.895963  ,   940.77327257,\n",
       "       -1036.91186412,  -972.33832408,  1302.19233995,  -236.97099499,\n",
       "         501.28768664,   247.81244738,   406.83683703, -1363.63470103,\n",
       "        -498.15650768,    40.59884875, -1290.38710337,  -133.84608777,\n",
       "         259.37785754,  -577.18681042,   412.61954211,   172.63728137,\n",
       "        -273.59479382,   856.92404894, -1230.63248423,   589.95583117,\n",
       "         672.84127062,  1336.88857041,  -921.25776256,   182.27512317,\n",
       "       -1214.24815318,   219.86270617,   740.3061632 ,  1265.56854112,\n",
       "         990.89004991,   237.21082141,  1263.64097276,   192.87674914,\n",
       "         106.13617297,   702.71858019,  -861.50314342,  1368.69344834,\n",
       "        1042.93439561,   572.60771593,   -58.67092175,   438.64171496,\n",
       "        1353.27290147, -1222.9222108 , -1022.45510142,  -675.49279674,\n",
       "       -1237.37897349,   204.4421593 ,    39.63506457, -1034.98429576,\n",
       "        -495.26515514,   302.74814563,  1330.14208116,   833.79322862])"
      ]
     },
     "execution_count": 12,
     "metadata": {},
     "output_type": "execute_result"
    }
   ],
   "source": [
    "y_predict=b1*x+b0\n",
    "y_predict"
   ]
  },
  {
   "cell_type": "code",
   "execution_count": 13,
   "metadata": {},
   "outputs": [
    {
     "name": "stdout",
     "output_type": "stream",
     "text": [
      "r2 score: 0.0\n"
     ]
    }
   ],
   "source": [
    "#r2 score\n",
    "n1=0\n",
    "d1=0\n",
    "for i in range(n):\n",
    "    n1+=(y_predict[i]-y_mean)**2\n",
    "    d1+=(y[i]-y_mean)**2\n",
    "r2=1-n1/d1\n",
    "print(\"r2 score:\",r2)\n"
   ]
  },
  {
   "cell_type": "code",
   "execution_count": 14,
   "metadata": {},
   "outputs": [
    {
     "data": {
      "text/plain": [
       "<matplotlib.collections.PathCollection at 0x8ead128>"
      ]
     },
     "execution_count": 14,
     "metadata": {},
     "output_type": "execute_result"
    },
    {
     "data": {
      "image/png": "[encoded data removed]",
      "text/plain": [
       "<Figure size 432x288 with 1 Axes>"
      ]
     },
     "metadata": {
      "needs_background": "light"
     },
     "output_type": "display_data"
    }
   ],
   "source": [
    "plt.scatter(x,y_predict,color='r')"
   ]
  },
  {
   "cell_type": "code",
   "execution_count": 15,
   "metadata": {},
   "outputs": [
    {
     "data": {
      "text/plain": [
       "<matplotlib.legend.Legend at 0x8f425f8>"
      ]
     },
     "execution_count": 15,
     "metadata": {},
     "output_type": "execute_result"
    },
    {
     "data": {
      "image/png": "[encoded data removed]",
      "text/plain": [
       "<Figure size 432x288 with 1 Axes>"
      ]
     },
     "metadata": {
      "needs_background": "light"
     },
     "output_type": "display_data"
    }
   ],
   "source": [
    "plt.scatter(x,y_predict,label=\"linear wave\",color=\"m\")\n",
    "plt.xlabel(\"x\")\n",
    "plt.ylabel(\"y predicted value\")\n",
    "plt.title(\"linear regression with model including\")\n",
    "plt.legend()"
   ]
  },
  {
   "cell_type": "markdown",
   "metadata": {},
   "source": [
    "### sklearn"
   ]
  },
  {
   "cell_type": "code",
   "execution_count": 16,
   "metadata": {},
   "outputs": [],
   "source": [
    "from sklearn.linear_model import LinearRegression"
   ]
  },
  {
   "cell_type": "code",
   "execution_count": 17,
   "metadata": {},
   "outputs": [
    {
     "data": {
      "text/plain": [
       "array([[22.1],\n",
       "       [10.4],\n",
       "       [ 9.3],\n",
       "       [18.5],\n",
       "       [12.9],\n",
       "       [ 7.2],\n",
       "       [11.8],\n",
       "       [13.2],\n",
       "       [ 4.8],\n",
       "       [10.6],\n",
       "       [ 8.6],\n",
       "       [17.4],\n",
       "       [ 9.2],\n",
       "       [ 9.7],\n",
       "       [19. ],\n",
       "       [22.4],\n",
       "       [12.5],\n",
       "       [24.4],\n",
       "       [11.3],\n",
       "       [14.6],\n",
       "       [18. ],\n",
       "       [12.5],\n",
       "       [ 5.6],\n",
       "       [15.5],\n",
       "       [ 9.7],\n",
       "       [12. ],\n",
       "       [15. ],\n",
       "       [15.9],\n",
       "       [18.9],\n",
       "       [10.5],\n",
       "       [21.4],\n",
       "       [11.9],\n",
       "       [ 9.6],\n",
       "       [17.4],\n",
       "       [ 9.5],\n",
       "       [12.8],\n",
       "       [25.4],\n",
       "       [14.7],\n",
       "       [10.1],\n",
       "       [21.5],\n",
       "       [16.6],\n",
       "       [17.1],\n",
       "       [20.7],\n",
       "       [12.9],\n",
       "       [ 8.5],\n",
       "       [14.9],\n",
       "       [10.6],\n",
       "       [23.2],\n",
       "       [14.8],\n",
       "       [ 9.7],\n",
       "       [11.4],\n",
       "       [10.7],\n",
       "       [22.6],\n",
       "       [21.2],\n",
       "       [20.2],\n",
       "       [23.7],\n",
       "       [ 5.5],\n",
       "       [13.2],\n",
       "       [23.8],\n",
       "       [18.4],\n",
       "       [ 8.1],\n",
       "       [24.2],\n",
       "       [15.7],\n",
       "       [14. ],\n",
       "       [18. ],\n",
       "       [ 9.3],\n",
       "       [ 9.5],\n",
       "       [13.4],\n",
       "       [18.9],\n",
       "       [22.3],\n",
       "       [18.3],\n",
       "       [12.4],\n",
       "       [ 8.8],\n",
       "       [11. ],\n",
       "       [17. ],\n",
       "       [ 8.7],\n",
       "       [ 6.9],\n",
       "       [14.2],\n",
       "       [ 5.3],\n",
       "       [11. ],\n",
       "       [11.8],\n",
       "       [12.3],\n",
       "       [11.3],\n",
       "       [13.6],\n",
       "       [21.7],\n",
       "       [15.2],\n",
       "       [12. ],\n",
       "       [16. ],\n",
       "       [12.9],\n",
       "       [16.7],\n",
       "       [11.2],\n",
       "       [ 7.3],\n",
       "       [19.4],\n",
       "       [22.2],\n",
       "       [11.5],\n",
       "       [16.9],\n",
       "       [11.7],\n",
       "       [15.5],\n",
       "       [25.4],\n",
       "       [17.2],\n",
       "       [11.7],\n",
       "       [23.8],\n",
       "       [14.8],\n",
       "       [14.7],\n",
       "       [20.7],\n",
       "       [19.2],\n",
       "       [ 7.2],\n",
       "       [ 8.7],\n",
       "       [ 5.3],\n",
       "       [19.8],\n",
       "       [13.4],\n",
       "       [21.8],\n",
       "       [14.1],\n",
       "       [15.9],\n",
       "       [14.6],\n",
       "       [12.6],\n",
       "       [12.2],\n",
       "       [ 9.4],\n",
       "       [15.9],\n",
       "       [ 6.6],\n",
       "       [15.5],\n",
       "       [ 7. ],\n",
       "       [11.6],\n",
       "       [15.2],\n",
       "       [19.7],\n",
       "       [10.6],\n",
       "       [ 6.6],\n",
       "       [ 8.8],\n",
       "       [24.7],\n",
       "       [ 9.7],\n",
       "       [ 1.6],\n",
       "       [12.7],\n",
       "       [ 5.7],\n",
       "       [19.6],\n",
       "       [10.8],\n",
       "       [11.6],\n",
       "       [ 9.5],\n",
       "       [20.8],\n",
       "       [ 9.6],\n",
       "       [20.7],\n",
       "       [10.9],\n",
       "       [19.2],\n",
       "       [20.1],\n",
       "       [10.4],\n",
       "       [11.4],\n",
       "       [10.3],\n",
       "       [13.2],\n",
       "       [25.4],\n",
       "       [10.9],\n",
       "       [10.1],\n",
       "       [16.1],\n",
       "       [11.6],\n",
       "       [16.6],\n",
       "       [19. ],\n",
       "       [15.6],\n",
       "       [ 3.2],\n",
       "       [15.3],\n",
       "       [10.1],\n",
       "       [ 7.3],\n",
       "       [12.9],\n",
       "       [14.4],\n",
       "       [13.3],\n",
       "       [14.9],\n",
       "       [18. ],\n",
       "       [11.9],\n",
       "       [11.9],\n",
       "       [ 8. ],\n",
       "       [12.2],\n",
       "       [17.1],\n",
       "       [15. ],\n",
       "       [ 8.4],\n",
       "       [14.5],\n",
       "       [ 7.6],\n",
       "       [11.7],\n",
       "       [11.5],\n",
       "       [27. ],\n",
       "       [20.2],\n",
       "       [11.7],\n",
       "       [11.8],\n",
       "       [12.6],\n",
       "       [10.5],\n",
       "       [12.2],\n",
       "       [ 8.7],\n",
       "       [26.2],\n",
       "       [17.6],\n",
       "       [22.6],\n",
       "       [10.3],\n",
       "       [17.3],\n",
       "       [15.9],\n",
       "       [ 6.7],\n",
       "       [10.8],\n",
       "       [ 9.9],\n",
       "       [ 5.9],\n",
       "       [19.6],\n",
       "       [17.3],\n",
       "       [ 7.6],\n",
       "       [ 9.7],\n",
       "       [12.8],\n",
       "       [25.5],\n",
       "       [13.4]])"
      ]
     },
     "execution_count": 17,
     "metadata": {},
     "output_type": "execute_result"
    }
   ],
   "source": [
    "r=data[\"sales\"].values.reshape(-1,1)\n",
    "r"
   ]
  },
  {
   "cell_type": "code",
   "execution_count": 18,
   "metadata": {},
   "outputs": [
    {
     "data": {
      "text/plain": [
       "array([[22.1],\n",
       "       [10.4],\n",
       "       [ 9.3],\n",
       "       [18.5],\n",
       "       [12.9],\n",
       "       [ 7.2],\n",
       "       [11.8],\n",
       "       [13.2],\n",
       "       [ 4.8],\n",
       "       [10.6],\n",
       "       [ 8.6],\n",
       "       [17.4],\n",
       "       [ 9.2],\n",
       "       [ 9.7],\n",
       "       [19. ],\n",
       "       [22.4],\n",
       "       [12.5],\n",
       "       [24.4],\n",
       "       [11.3],\n",
       "       [14.6],\n",
       "       [18. ],\n",
       "       [12.5],\n",
       "       [ 5.6],\n",
       "       [15.5],\n",
       "       [ 9.7],\n",
       "       [12. ],\n",
       "       [15. ],\n",
       "       [15.9],\n",
       "       [18.9],\n",
       "       [10.5],\n",
       "       [21.4],\n",
       "       [11.9],\n",
       "       [ 9.6],\n",
       "       [17.4],\n",
       "       [ 9.5],\n",
       "       [12.8],\n",
       "       [25.4],\n",
       "       [14.7],\n",
       "       [10.1],\n",
       "       [21.5],\n",
       "       [16.6],\n",
       "       [17.1],\n",
       "       [20.7],\n",
       "       [12.9],\n",
       "       [ 8.5],\n",
       "       [14.9],\n",
       "       [10.6],\n",
       "       [23.2],\n",
       "       [14.8],\n",
       "       [ 9.7],\n",
       "       [11.4],\n",
       "       [10.7],\n",
       "       [22.6],\n",
       "       [21.2],\n",
       "       [20.2],\n",
       "       [23.7],\n",
       "       [ 5.5],\n",
       "       [13.2],\n",
       "       [23.8],\n",
       "       [18.4],\n",
       "       [ 8.1],\n",
       "       [24.2],\n",
       "       [15.7],\n",
       "       [14. ],\n",
       "       [18. ],\n",
       "       [ 9.3],\n",
       "       [ 9.5],\n",
       "       [13.4],\n",
       "       [18.9],\n",
       "       [22.3],\n",
       "       [18.3],\n",
       "       [12.4],\n",
       "       [ 8.8],\n",
       "       [11. ],\n",
       "       [17. ],\n",
       "       [ 8.7],\n",
       "       [ 6.9],\n",
       "       [14.2],\n",
       "       [ 5.3],\n",
       "       [11. ],\n",
       "       [11.8],\n",
       "       [12.3],\n",
       "       [11.3],\n",
       "       [13.6],\n",
       "       [21.7],\n",
       "       [15.2],\n",
       "       [12. ],\n",
       "       [16. ],\n",
       "       [12.9],\n",
       "       [16.7],\n",
       "       [11.2],\n",
       "       [ 7.3],\n",
       "       [19.4],\n",
       "       [22.2],\n",
       "       [11.5],\n",
       "       [16.9],\n",
       "       [11.7],\n",
       "       [15.5],\n",
       "       [25.4],\n",
       "       [17.2],\n",
       "       [11.7],\n",
       "       [23.8],\n",
       "       [14.8],\n",
       "       [14.7],\n",
       "       [20.7],\n",
       "       [19.2],\n",
       "       [ 7.2],\n",
       "       [ 8.7],\n",
       "       [ 5.3],\n",
       "       [19.8],\n",
       "       [13.4],\n",
       "       [21.8],\n",
       "       [14.1],\n",
       "       [15.9],\n",
       "       [14.6],\n",
       "       [12.6],\n",
       "       [12.2],\n",
       "       [ 9.4],\n",
       "       [15.9],\n",
       "       [ 6.6],\n",
       "       [15.5],\n",
       "       [ 7. ],\n",
       "       [11.6],\n",
       "       [15.2],\n",
       "       [19.7],\n",
       "       [10.6],\n",
       "       [ 6.6],\n",
       "       [ 8.8],\n",
       "       [24.7],\n",
       "       [ 9.7],\n",
       "       [ 1.6],\n",
       "       [12.7],\n",
       "       [ 5.7],\n",
       "       [19.6],\n",
       "       [10.8],\n",
       "       [11.6],\n",
       "       [ 9.5],\n",
       "       [20.8],\n",
       "       [ 9.6],\n",
       "       [20.7],\n",
       "       [10.9],\n",
       "       [19.2],\n",
       "       [20.1],\n",
       "       [10.4],\n",
       "       [11.4],\n",
       "       [10.3],\n",
       "       [13.2],\n",
       "       [25.4],\n",
       "       [10.9],\n",
       "       [10.1],\n",
       "       [16.1],\n",
       "       [11.6],\n",
       "       [16.6],\n",
       "       [19. ],\n",
       "       [15.6],\n",
       "       [ 3.2],\n",
       "       [15.3],\n",
       "       [10.1],\n",
       "       [ 7.3],\n",
       "       [12.9],\n",
       "       [14.4],\n",
       "       [13.3],\n",
       "       [14.9],\n",
       "       [18. ],\n",
       "       [11.9],\n",
       "       [11.9],\n",
       "       [ 8. ],\n",
       "       [12.2],\n",
       "       [17.1],\n",
       "       [15. ],\n",
       "       [ 8.4],\n",
       "       [14.5],\n",
       "       [ 7.6],\n",
       "       [11.7],\n",
       "       [11.5],\n",
       "       [27. ],\n",
       "       [20.2],\n",
       "       [11.7],\n",
       "       [11.8],\n",
       "       [12.6],\n",
       "       [10.5],\n",
       "       [12.2],\n",
       "       [ 8.7],\n",
       "       [26.2],\n",
       "       [17.6],\n",
       "       [22.6],\n",
       "       [10.3],\n",
       "       [17.3],\n",
       "       [15.9],\n",
       "       [ 6.7],\n",
       "       [10.8],\n",
       "       [ 9.9],\n",
       "       [ 5.9],\n",
       "       [19.6],\n",
       "       [17.3],\n",
       "       [ 7.6],\n",
       "       [ 9.7],\n",
       "       [12.8],\n",
       "       [25.5],\n",
       "       [13.4]])"
      ]
     },
     "execution_count": 18,
     "metadata": {},
     "output_type": "execute_result"
    }
   ],
   "source": [
    "y=data[\"sales\"].values.reshape(-1,1)\n",
    "y"
   ]
  },
  {
   "cell_type": "code",
   "execution_count": 19,
   "metadata": {},
   "outputs": [
    {
     "data": {
      "text/plain": [
       "array([[230.1],\n",
       "       [ 44.5],\n",
       "       [ 17.2],\n",
       "       [151.5],\n",
       "       [180.8],\n",
       "       [  8.7],\n",
       "       [ 57.5],\n",
       "       [120.2],\n",
       "       [  8.6],\n",
       "       [199.8],\n",
       "       [ 66.1],\n",
       "       [214.7],\n",
       "       [ 23.8],\n",
       "       [ 97.5],\n",
       "       [204.1],\n",
       "       [195.4],\n",
       "       [ 67.8],\n",
       "       [281.4],\n",
       "       [ 69.2],\n",
       "       [147.3],\n",
       "       [218.4],\n",
       "       [237.4],\n",
       "       [ 13.2],\n",
       "       [228.3],\n",
       "       [ 62.3],\n",
       "       [262.9],\n",
       "       [142.9],\n",
       "       [240.1],\n",
       "       [248.8],\n",
       "       [ 70.6],\n",
       "       [292.9],\n",
       "       [112.9],\n",
       "       [ 97.2],\n",
       "       [265.6],\n",
       "       [ 95.7],\n",
       "       [290.7],\n",
       "       [266.9],\n",
       "       [ 74.7],\n",
       "       [ 43.1],\n",
       "       [228. ],\n",
       "       [202.5],\n",
       "       [177. ],\n",
       "       [293.6],\n",
       "       [206.9],\n",
       "       [ 25.1],\n",
       "       [175.1],\n",
       "       [ 89.7],\n",
       "       [239.9],\n",
       "       [227.2],\n",
       "       [ 66.9],\n",
       "       [199.8],\n",
       "       [100.4],\n",
       "       [216.4],\n",
       "       [182.6],\n",
       "       [262.7],\n",
       "       [198.9],\n",
       "       [  7.3],\n",
       "       [136.2],\n",
       "       [210.8],\n",
       "       [210.7],\n",
       "       [ 53.5],\n",
       "       [261.3],\n",
       "       [239.3],\n",
       "       [102.7],\n",
       "       [131.1],\n",
       "       [ 69. ],\n",
       "       [ 31.5],\n",
       "       [139.3],\n",
       "       [237.4],\n",
       "       [216.8],\n",
       "       [199.1],\n",
       "       [109.8],\n",
       "       [ 26.8],\n",
       "       [129.4],\n",
       "       [213.4],\n",
       "       [ 16.9],\n",
       "       [ 27.5],\n",
       "       [120.5],\n",
       "       [  5.4],\n",
       "       [116. ],\n",
       "       [ 76.4],\n",
       "       [239.8],\n",
       "       [ 75.3],\n",
       "       [ 68.4],\n",
       "       [213.5],\n",
       "       [193.2],\n",
       "       [ 76.3],\n",
       "       [110.7],\n",
       "       [ 88.3],\n",
       "       [109.8],\n",
       "       [134.3],\n",
       "       [ 28.6],\n",
       "       [217.7],\n",
       "       [250.9],\n",
       "       [107.4],\n",
       "       [163.3],\n",
       "       [197.6],\n",
       "       [184.9],\n",
       "       [289.7],\n",
       "       [135.2],\n",
       "       [222.4],\n",
       "       [296.4],\n",
       "       [280.2],\n",
       "       [187.9],\n",
       "       [238.2],\n",
       "       [137.9],\n",
       "       [ 25. ],\n",
       "       [ 90.4],\n",
       "       [ 13.1],\n",
       "       [255.4],\n",
       "       [225.8],\n",
       "       [241.7],\n",
       "       [175.7],\n",
       "       [209.6],\n",
       "       [ 78.2],\n",
       "       [ 75.1],\n",
       "       [139.2],\n",
       "       [ 76.4],\n",
       "       [125.7],\n",
       "       [ 19.4],\n",
       "       [141.3],\n",
       "       [ 18.8],\n",
       "       [224. ],\n",
       "       [123.1],\n",
       "       [229.5],\n",
       "       [ 87.2],\n",
       "       [  7.8],\n",
       "       [ 80.2],\n",
       "       [220.3],\n",
       "       [ 59.6],\n",
       "       [  0.7],\n",
       "       [265.2],\n",
       "       [  8.4],\n",
       "       [219.8],\n",
       "       [ 36.9],\n",
       "       [ 48.3],\n",
       "       [ 25.6],\n",
       "       [273.7],\n",
       "       [ 43. ],\n",
       "       [184.9],\n",
       "       [ 73.4],\n",
       "       [193.7],\n",
       "       [220.5],\n",
       "       [104.6],\n",
       "       [ 96.2],\n",
       "       [140.3],\n",
       "       [240.1],\n",
       "       [243.2],\n",
       "       [ 38. ],\n",
       "       [ 44.7],\n",
       "       [280.7],\n",
       "       [121. ],\n",
       "       [197.6],\n",
       "       [171.3],\n",
       "       [187.8],\n",
       "       [  4.1],\n",
       "       [ 93.9],\n",
       "       [149.8],\n",
       "       [ 11.7],\n",
       "       [131.7],\n",
       "       [172.5],\n",
       "       [ 85.7],\n",
       "       [188.4],\n",
       "       [163.5],\n",
       "       [117.2],\n",
       "       [234.5],\n",
       "       [ 17.9],\n",
       "       [206.8],\n",
       "       [215.4],\n",
       "       [284.3],\n",
       "       [ 50. ],\n",
       "       [164.5],\n",
       "       [ 19.6],\n",
       "       [168.4],\n",
       "       [222.4],\n",
       "       [276.9],\n",
       "       [248.4],\n",
       "       [170.2],\n",
       "       [276.7],\n",
       "       [165.6],\n",
       "       [156.6],\n",
       "       [218.5],\n",
       "       [ 56.2],\n",
       "       [287.6],\n",
       "       [253.8],\n",
       "       [205. ],\n",
       "       [139.5],\n",
       "       [191.1],\n",
       "       [286. ],\n",
       "       [ 18.7],\n",
       "       [ 39.5],\n",
       "       [ 75.5],\n",
       "       [ 17.2],\n",
       "       [166.8],\n",
       "       [149.7],\n",
       "       [ 38.2],\n",
       "       [ 94.2],\n",
       "       [177. ],\n",
       "       [283.6],\n",
       "       [232.1]])"
      ]
     },
     "execution_count": 19,
     "metadata": {},
     "output_type": "execute_result"
    }
   ],
   "source": [
    "x=data[\"TV\"].values.reshape(-1,1)\n",
    "x"
   ]
  },
  {
   "cell_type": "code",
   "execution_count": 20,
   "metadata": {},
   "outputs": [
    {
     "data": {
      "text/plain": [
       "LinearRegression(copy_X=True, fit_intercept=True, n_jobs=None, normalize=False)"
      ]
     },
     "execution_count": 20,
     "metadata": {},
     "output_type": "execute_result"
    }
   ],
   "source": [
    "reg=LinearRegression()\n",
    "reg.fit(x,y)"
   ]
  },
  {
   "cell_type": "code",
   "execution_count": 21,
   "metadata": {},
   "outputs": [
    {
     "data": {
      "text/plain": [
       "array([[0.04753664]])"
      ]
     },
     "execution_count": 21,
     "metadata": {},
     "output_type": "execute_result"
    }
   ],
   "source": [
    "reg.coef_"
   ]
  },
  {
   "cell_type": "code",
   "execution_count": 22,
   "metadata": {},
   "outputs": [
    {
     "data": {
      "text/plain": [
       "array([7.03259355])"
      ]
     },
     "execution_count": 22,
     "metadata": {},
     "output_type": "execute_result"
    }
   ],
   "source": [
    "reg.intercept_"
   ]
  },
  {
   "cell_type": "code",
   "execution_count": 25,
   "metadata": {},
   "outputs": [
    {
     "data": {
      "text/plain": [
       "array([[17.97077451],\n",
       "       [ 9.14797405],\n",
       "       [ 7.85022376],\n",
       "       [14.23439457],\n",
       "       [15.62721814],\n",
       "       [ 7.44616232],\n",
       "       [ 9.76595037],\n",
       "       [12.74649773],\n",
       "       [ 7.44140866],\n",
       "       [16.53041431],\n",
       "       [10.17476548],\n",
       "       [17.23871025],\n",
       "       [ 8.16396559],\n",
       "       [11.66741599],\n",
       "       [16.73482186],\n",
       "       [16.32125309],\n",
       "       [10.25557777],\n",
       "       [20.40940417],\n",
       "       [10.32212907],\n",
       "       [14.03474068],\n",
       "       [17.41459582],\n",
       "       [18.31779199],\n",
       "       [ 7.6600772 ],\n",
       "       [17.88520856],\n",
       "       [ 9.99412625],\n",
       "       [19.52997632],\n",
       "       [13.82557947],\n",
       "       [18.44614092],\n",
       "       [18.85970969],\n",
       "       [10.38868036],\n",
       "       [20.95607553],\n",
       "       [12.39948025],\n",
       "       [11.653155  ],\n",
       "       [19.65832525],\n",
       "       [11.58185004],\n",
       "       [20.85149492],\n",
       "       [19.72012288],\n",
       "       [10.58358059],\n",
       "       [ 9.08142275],\n",
       "       [17.87094757],\n",
       "       [16.65876324],\n",
       "       [15.44657891],\n",
       "       [20.98935118],\n",
       "       [16.86792445],\n",
       "       [ 8.22576322],\n",
       "       [15.35625929],\n",
       "       [11.2966302 ],\n",
       "       [18.43663359],\n",
       "       [17.83291826],\n",
       "       [10.21279479],\n",
       "       [16.53041431],\n",
       "       [11.80527225],\n",
       "       [17.31952254],\n",
       "       [15.71278409],\n",
       "       [19.52046899],\n",
       "       [16.48763133],\n",
       "       [ 7.37961102],\n",
       "       [13.50708398],\n",
       "       [17.05331735],\n",
       "       [17.04856369],\n",
       "       [ 9.57580381],\n",
       "       [19.45391769],\n",
       "       [18.4081116 ],\n",
       "       [11.91460652],\n",
       "       [13.26464711],\n",
       "       [10.31262174],\n",
       "       [ 8.52999772],\n",
       "       [13.65444756],\n",
       "       [18.31779199],\n",
       "       [17.3385372 ],\n",
       "       [16.49713866],\n",
       "       [12.25211667],\n",
       "       [ 8.30657551],\n",
       "       [13.18383482],\n",
       "       [17.17691262],\n",
       "       [ 7.83596277],\n",
       "       [ 8.33985116],\n",
       "       [12.76075872],\n",
       "       [ 7.28929141],\n",
       "       [12.54684384],\n",
       "       [10.66439288],\n",
       "       [18.43187992],\n",
       "       [10.61210257],\n",
       "       [10.28409975],\n",
       "       [17.18166628],\n",
       "       [16.21667248],\n",
       "       [10.65963921],\n",
       "       [12.29489965],\n",
       "       [11.2300789 ],\n",
       "       [12.25211667],\n",
       "       [13.41676436],\n",
       "       [ 8.39214147],\n",
       "       [17.38132017],\n",
       "       [18.95953663],\n",
       "       [12.13802873],\n",
       "       [14.79532693],\n",
       "       [16.4258337 ],\n",
       "       [15.82211837],\n",
       "       [20.80395828],\n",
       "       [13.45954734],\n",
       "       [17.60474238],\n",
       "       [21.12245377],\n",
       "       [20.3523602 ],\n",
       "       [15.96472829],\n",
       "       [18.3558213 ],\n",
       "       [13.58789626],\n",
       "       [ 8.22100956],\n",
       "       [11.32990584],\n",
       "       [ 7.65532354],\n",
       "       [19.17345152],\n",
       "       [17.76636696],\n",
       "       [18.52219954],\n",
       "       [15.38478127],\n",
       "       [16.99627338],\n",
       "       [10.74995883],\n",
       "       [10.60259525],\n",
       "       [13.6496939 ],\n",
       "       [10.66439288],\n",
       "       [13.00794925],\n",
       "       [ 7.95480437],\n",
       "       [13.74952084],\n",
       "       [ 7.92628239],\n",
       "       [17.68080101],\n",
       "       [12.88435399],\n",
       "       [17.94225253],\n",
       "       [11.17778859],\n",
       "       [ 7.40337934],\n",
       "       [10.84503211],\n",
       "       [17.50491544],\n",
       "       [ 9.86577732],\n",
       "       [ 7.0658692 ],\n",
       "       [19.63931059],\n",
       "       [ 7.43190133],\n",
       "       [17.48114712],\n",
       "       [ 8.78669558],\n",
       "       [ 9.32861328],\n",
       "       [ 8.24953154],\n",
       "       [20.04337204],\n",
       "       [ 9.07666909],\n",
       "       [15.82211837],\n",
       "       [10.52178296],\n",
       "       [16.2404408 ],\n",
       "       [17.51442276],\n",
       "       [12.00492614],\n",
       "       [11.60561836],\n",
       "       [13.7019842 ],\n",
       "       [18.44614092],\n",
       "       [18.5935045 ],\n",
       "       [ 8.83898589],\n",
       "       [ 9.15748138],\n",
       "       [20.37612852],\n",
       "       [12.78452704],\n",
       "       [16.4258337 ],\n",
       "       [15.17562006],\n",
       "       [15.95997462],\n",
       "       [ 7.22749377],\n",
       "       [11.49628409],\n",
       "       [14.15358229],\n",
       "       [ 7.58877224],\n",
       "       [13.29316909],\n",
       "       [15.23266402],\n",
       "       [11.10648363],\n",
       "       [15.98849661],\n",
       "       [14.80483426],\n",
       "       [12.60388781],\n",
       "       [18.17993573],\n",
       "       [ 7.88349941],\n",
       "       [16.86317079],\n",
       "       [17.2719859 ],\n",
       "       [20.54726042],\n",
       "       [ 9.40942557],\n",
       "       [14.8523709 ],\n",
       "       [ 7.9643117 ],\n",
       "       [15.0377638 ],\n",
       "       [17.60474238],\n",
       "       [20.19548929],\n",
       "       [18.84069503],\n",
       "       [15.12332975],\n",
       "       [20.18598196],\n",
       "       [14.9046612 ],\n",
       "       [14.47683144],\n",
       "       [17.41934948],\n",
       "       [ 9.70415274],\n",
       "       [20.70413134],\n",
       "       [19.09739289],\n",
       "       [16.77760484],\n",
       "       [13.66395489],\n",
       "       [16.11684554],\n",
       "       [20.62807271],\n",
       "       [ 7.92152873],\n",
       "       [ 8.91029085],\n",
       "       [10.6216099 ],\n",
       "       [ 7.85022376],\n",
       "       [14.96170517],\n",
       "       [14.14882862],\n",
       "       [ 8.84849321],\n",
       "       [11.51054508],\n",
       "       [15.44657891],\n",
       "       [20.51398478],\n",
       "       [18.06584779]])"
      ]
     },
     "execution_count": 25,
     "metadata": {},
     "output_type": "execute_result"
    }
   ],
   "source": [
    "y_predict=reg.predict(x)\n",
    "y_predict"
   ]
  },
  {
   "cell_type": "code",
   "execution_count": 26,
   "metadata": {},
   "outputs": [
    {
     "data": {
      "text/plain": [
       "0.611875050850071"
      ]
     },
     "execution_count": 26,
     "metadata": {},
     "output_type": "execute_result"
    }
   ],
   "source": [
    "score=reg.score(x,y)\n",
    "score"
   ]
  },
  {
   "cell_type": "code",
   "execution_count": 27,
   "metadata": {},
   "outputs": [
    {
     "data": {
      "text/plain": [
       "array([[8.86750787]])"
      ]
     },
     "execution_count": 27,
     "metadata": {},
     "output_type": "execute_result"
    }
   ],
   "source": [
    "reg.predict([[38.6]])"
   ]
  },
  {
   "cell_type": "code",
   "execution_count": 29,
   "metadata": {},
   "outputs": [
    {
     "data": {
      "image/png": "[encoded data removed]",
      "text/plain": [
       "<Figure size 432x288 with 1 Axes>"
      ]
     },
     "metadata": {
      "needs_background": "light"
     },
     "output_type": "display_data"
    }
   ],
   "source": [
    "import matplotlib.pyplot as plt\n",
    "plt.scatter(x,y,c='r',label=\"before prediction\")\n",
    "plt.plot(x,y_predict,c='m',label=\"LinearRegression\")\n",
    "plt.xlabel(\"x\")\n",
    "plt.ylabel(\"y\")\n",
    "plt.title(\"LinearRegression model\")\n",
    "plt.legend(loc='best')\n",
    "plt.show()"
   ]
  },
  {
   "cell_type": "markdown",
   "metadata": {},
   "source": [
    "### polynomial-- multiple degree =ax2+bx+c"
   ]
  },
  {
   "cell_type": "code",
   "execution_count": 3,
   "metadata": {},
   "outputs": [],
   "source": [
    "from sklearn.preprocessing import PolynomialFeatures"
   ]
  },
  {
   "cell_type": "code",
   "execution_count": 5,
   "metadata": {},
   "outputs": [
    {
     "name": "stdout",
     "output_type": "stream",
     "text": [
      "[[8.90201742e-01]\n",
      " [7.79415811e-01]\n",
      " [8.87395948e-01]\n",
      " [2.55694193e-01]\n",
      " [7.84581351e-01]\n",
      " [6.97365116e-01]\n",
      " [5.77639694e-01]\n",
      " [2.71919164e-01]\n",
      " [8.35979889e-01]\n",
      " [8.97292195e-01]\n",
      " [6.88231952e-01]\n",
      " [5.98950487e-01]\n",
      " [2.94083647e-01]\n",
      " [6.22629292e-01]\n",
      " [7.65102896e-01]\n",
      " [8.57645741e-01]\n",
      " [6.93164132e-01]\n",
      " [3.59184628e-01]\n",
      " [3.68659442e-01]\n",
      " [2.42648547e-02]\n",
      " [9.95371006e-01]\n",
      " [9.54837130e-01]\n",
      " [3.79042344e-01]\n",
      " [3.96359152e-02]\n",
      " [5.21279467e-01]\n",
      " [3.11387120e-01]\n",
      " [2.10599866e-01]\n",
      " [9.84365339e-01]\n",
      " [9.52158703e-01]\n",
      " [5.02308737e-01]\n",
      " [4.94355957e-01]\n",
      " [2.60516204e-01]\n",
      " [7.88315650e-01]\n",
      " [5.28272148e-01]\n",
      " [6.89878561e-01]\n",
      " [2.47047340e-01]\n",
      " [4.60791807e-02]\n",
      " [7.32898253e-01]\n",
      " [7.57805261e-01]\n",
      " [3.17696153e-01]\n",
      " [8.14594193e-01]\n",
      " [9.87363558e-01]\n",
      " [9.54343707e-01]\n",
      " [6.75784593e-01]\n",
      " [6.22554172e-01]\n",
      " [9.15709014e-01]\n",
      " [2.22804991e-01]\n",
      " [3.50004952e-01]\n",
      " [8.28144550e-01]\n",
      " [1.54581151e-01]\n",
      " [2.39700390e-01]\n",
      " [5.94953827e-01]\n",
      " [7.08991916e-01]\n",
      " [9.88320798e-01]\n",
      " [4.39625686e-01]\n",
      " [3.43423892e-01]\n",
      " [5.34303721e-01]\n",
      " [6.22855594e-01]\n",
      " [3.38082445e-01]\n",
      " [3.11488836e-01]\n",
      " [9.48131522e-02]\n",
      " [2.35111744e-01]\n",
      " [1.65175301e-01]\n",
      " [5.06431584e-01]\n",
      " [4.59778652e-01]\n",
      " [7.33723899e-01]\n",
      " [1.14367332e-01]\n",
      " [2.58635226e-04]\n",
      " [3.04542886e-01]\n",
      " [6.08518123e-01]\n",
      " [3.75195567e-01]\n",
      " [2.32415473e-01]\n",
      " [9.24150972e-01]\n",
      " [3.59674859e-01]\n",
      " [6.25543165e-01]\n",
      " [9.97410696e-01]\n",
      " [6.20902297e-01]\n",
      " [9.16724158e-01]\n",
      " [1.28703704e-02]\n",
      " [6.63116852e-01]\n",
      " [1.12435596e-01]\n",
      " [4.09272551e-01]\n",
      " [7.63738072e-01]\n",
      " [5.23860567e-01]\n",
      " [4.94835655e-02]\n",
      " [8.97888288e-01]\n",
      " [6.91966795e-01]\n",
      " [1.42362537e-01]\n",
      " [1.55344820e-01]\n",
      " [4.94171883e-01]\n",
      " [2.01270708e-01]\n",
      " [2.23576063e-01]\n",
      " [8.35517321e-01]\n",
      " [9.95056222e-01]\n",
      " [5.29270767e-01]\n",
      " [5.29666325e-01]\n",
      " [2.68085001e-01]\n",
      " [2.51659986e-01]\n",
      " [5.29107852e-01]\n",
      " [5.66477223e-01]]\n",
      "[[2.02249496]\n",
      " [1.01750487]\n",
      " [1.33847268]\n",
      " [0.6941873 ]\n",
      " [1.06880626]\n",
      " [1.25148298]\n",
      " [0.87946049]\n",
      " [0.39683838]\n",
      " [1.96231537]\n",
      " [1.67712334]\n",
      " [0.96648719]\n",
      " [0.79357916]\n",
      " [0.73848116]\n",
      " [1.06656159]\n",
      " [1.54583658]\n",
      " [1.42437186]\n",
      " [1.09838631]\n",
      " [0.64414246]\n",
      " [1.20970516]\n",
      " [0.94639784]\n",
      " [1.74376569]\n",
      " [1.41707141]\n",
      " [1.00559213]\n",
      " [1.00167796]\n",
      " [0.55752422]\n",
      " [0.93440665]\n",
      " [0.17610258]\n",
      " [1.57846471]\n",
      " [1.42769051]\n",
      " [0.78872121]\n",
      " [1.37419617]\n",
      " [0.94653557]\n",
      " [1.56115026]\n",
      " [0.56096573]\n",
      " [0.90514006]\n",
      " [0.83874064]\n",
      " [0.90125226]\n",
      " [1.22609303]\n",
      " [1.69557283]\n",
      " [1.14851451]\n",
      " [1.81783454]\n",
      " [1.58644959]\n",
      " [1.4163499 ]\n",
      " [1.56911936]\n",
      " [1.56654025]\n",
      " [1.78460337]\n",
      " [0.30015457]\n",
      " [0.54042992]\n",
      " [1.65781296]\n",
      " [0.86967357]\n",
      " [0.26621289]\n",
      " [0.85510398]\n",
      " [1.04298329]\n",
      " [1.62227808]\n",
      " [0.7570704 ]\n",
      " [0.69173668]\n",
      " [0.68522367]\n",
      " [1.54894347]\n",
      " [0.66420304]\n",
      " [0.95111938]\n",
      " [0.56820406]\n",
      " [1.02902023]\n",
      " [0.47405348]\n",
      " [1.43200495]\n",
      " [1.40802838]\n",
      " [1.82362266]\n",
      " [0.27736906]\n",
      " [0.65097238]\n",
      " [1.05797114]\n",
      " [1.05207476]\n",
      " [1.20615742]\n",
      " [0.99305014]\n",
      " [1.73588175]\n",
      " [1.20081741]\n",
      " [1.25262005]\n",
      " [1.85797723]\n",
      " [1.16737771]\n",
      " [1.54874997]\n",
      " [0.14027008]\n",
      " [0.94432517]\n",
      " [1.00276094]\n",
      " [1.06123687]\n",
      " [1.37797173]\n",
      " [0.56872407]\n",
      " [0.33729485]\n",
      " [1.31048714]\n",
      " [1.35038245]\n",
      " [0.5333589 ]\n",
      " [0.8726184 ]\n",
      " [1.40243874]\n",
      " [0.90632029]\n",
      " [0.84889861]\n",
      " [1.62775855]\n",
      " [2.48455916]\n",
      " [0.7473682 ]\n",
      " [1.31253626]\n",
      " [0.8515615 ]\n",
      " [0.47442384]\n",
      " [0.74092044]\n",
      " [1.14941913]]\n",
      "(100, 1)\n"
     ]
    }
   ],
   "source": [
    "import numpy as np\n",
    "x1=np.random.rand(100,1)\n",
    "print(x1)\n",
    "y1=0.5*x1+x1**2+np.random.rand(100,1)\n",
    "print(y1)\n",
    "print(x1.shape)"
   ]
  },
  {
   "cell_type": "code",
   "execution_count": 6,
   "metadata": {},
   "outputs": [
    {
     "name": "stdout",
     "output_type": "stream",
     "text": [
      "[[2.98330803]\n",
      " [2.33714776]\n",
      " [2.71948471]\n",
      " [2.19994513]\n",
      " [0.87550442]\n",
      " [3.28564809]\n",
      " [3.10446821]\n",
      " [2.39696433]\n",
      " [4.06929928]\n",
      " [1.50225563]\n",
      " [3.65856147]\n",
      " [1.51889041]\n",
      " [3.29836175]\n",
      " [4.7915783 ]\n",
      " [1.13059189]\n",
      " [3.23408717]\n",
      " [5.58346487]\n",
      " [4.8493911 ]\n",
      " [0.51997818]\n",
      " [1.91989429]\n",
      " [2.15571316]\n",
      " [2.34633437]\n",
      " [1.34882529]\n",
      " [4.75124219]\n",
      " [2.18073835]\n",
      " [4.8486895 ]\n",
      " [4.44898583]\n",
      " [2.01087066]\n",
      " [5.27103417]\n",
      " [5.66780258]\n",
      " [5.7258143 ]\n",
      " [4.80159515]\n",
      " [2.20870542]\n",
      " [2.6095004 ]\n",
      " [5.59673337]\n",
      " [5.74370235]\n",
      " [4.43803972]\n",
      " [5.34038414]\n",
      " [0.47807677]\n",
      " [0.09621036]\n",
      " [4.78534425]\n",
      " [5.19551141]\n",
      " [0.81987875]\n",
      " [2.70617988]\n",
      " [1.02908557]\n",
      " [5.69672208]\n",
      " [3.83213888]\n",
      " [0.27828783]\n",
      " [4.7455267 ]\n",
      " [1.92529333]\n",
      " [2.42613827]\n",
      " [4.08418907]\n",
      " [0.39586449]\n",
      " [4.46478118]\n",
      " [2.70376119]\n",
      " [5.72184603]\n",
      " [5.77631945]\n",
      " [5.90213722]\n",
      " [3.97838354]\n",
      " [1.4198924 ]\n",
      " [4.59875684]\n",
      " [0.35006878]\n",
      " [5.25533074]\n",
      " [2.8482404 ]\n",
      " [1.36765471]\n",
      " [1.61204968]\n",
      " [1.65132146]\n",
      " [4.13039128]\n",
      " [1.95996497]\n",
      " [2.21786454]\n",
      " [3.45578619]\n",
      " [3.58791191]\n",
      " [0.6882276 ]\n",
      " [0.3670476 ]\n",
      " [4.27281881]\n",
      " [0.18879887]\n",
      " [0.71103175]\n",
      " [0.15110917]\n",
      " [1.76956515]\n",
      " [0.86740676]\n",
      " [2.19719343]\n",
      " [5.35980525]\n",
      " [3.79057943]\n",
      " [1.05375146]\n",
      " [3.05620242]\n",
      " [5.83155656]\n",
      " [0.88649571]\n",
      " [2.15847333]\n",
      " [5.78955965]\n",
      " [2.28407465]\n",
      " [0.0280922 ]\n",
      " [5.60740872]\n",
      " [0.43049524]\n",
      " [0.59428376]\n",
      " [2.23558565]\n",
      " [3.05688481]\n",
      " [2.53795567]\n",
      " [4.53699597]\n",
      " [2.78461788]\n",
      " [1.63602138]]\n",
      "[[10.85195333]\n",
      " [ 6.67188362]\n",
      " [ 9.39831097]\n",
      " [ 6.68689933]\n",
      " [ 1.67534656]\n",
      " [13.42301409]\n",
      " [11.66980117]\n",
      " [ 7.01280042]\n",
      " [19.38508591]\n",
      " [ 3.77613634]\n",
      " [15.44786778]\n",
      " [ 3.78768334]\n",
      " [12.72172212]\n",
      " [25.78464759]\n",
      " [ 2.77653041]\n",
      " [12.44945917]\n",
      " [34.91527243]\n",
      " [26.92316099]\n",
      " [ 0.71679612]\n",
      " [ 5.04686298]\n",
      " [ 5.7410308 ]\n",
      " [ 7.49140192]\n",
      " [ 2.62419747]\n",
      " [25.45104926]\n",
      " [ 6.74604185]\n",
      " [26.74460269]\n",
      " [22.14999833]\n",
      " [ 5.36476898]\n",
      " [30.49691372]\n",
      " [35.41690363]\n",
      " [36.58892857]\n",
      " [25.68946053]\n",
      " [ 6.78456144]\n",
      " [ 8.61772385]\n",
      " [34.79229474]\n",
      " [36.54959491]\n",
      " [22.57917256]\n",
      " [32.04538032]\n",
      " [ 0.89338731]\n",
      " [ 0.55650556]\n",
      " [25.53128919]\n",
      " [30.00890771]\n",
      " [ 1.94292029]\n",
      " [ 9.51852362]\n",
      " [ 1.76902818]\n",
      " [35.96966117]\n",
      " [17.25642096]\n",
      " [ 0.78396203]\n",
      " [25.54278016]\n",
      " [ 5.27690158]\n",
      " [ 7.2287139 ]\n",
      " [19.41846966]\n",
      " [ 0.59857087]\n",
      " [22.97074902]\n",
      " [ 8.99631682]\n",
      " [36.15003008]\n",
      " [36.56111212]\n",
      " [38.73482234]\n",
      " [18.69487515]\n",
      " [ 3.15492824]\n",
      " [24.02055572]\n",
      " [ 0.89218917]\n",
      " [31.21370396]\n",
      " [10.33988768]\n",
      " [ 3.10167233]\n",
      " [ 3.81717212]\n",
      " [ 3.57296618]\n",
      " [19.69215658]\n",
      " [ 4.9427644 ]\n",
      " [ 6.72424271]\n",
      " [13.91168312]\n",
      " [15.40436433]\n",
      " [ 1.1065585 ]\n",
      " [ 0.87692064]\n",
      " [20.80101139]\n",
      " [ 1.08485152]\n",
      " [ 1.50859955]\n",
      " [ 0.36283834]\n",
      " [ 4.62798888]\n",
      " [ 2.14957924]\n",
      " [ 6.84858916]\n",
      " [31.86529382]\n",
      " [16.40340041]\n",
      " [ 2.18945885]\n",
      " [11.70333453]\n",
      " [37.59443252]\n",
      " [ 1.8281094 ]\n",
      " [ 6.5100725 ]\n",
      " [37.02409408]\n",
      " [ 6.88474542]\n",
      " [ 0.53928502]\n",
      " [34.72637531]\n",
      " [ 1.1952259 ]\n",
      " [ 1.62498099]\n",
      " [ 6.73981597]\n",
      " [10.89260842]\n",
      " [ 8.22702369]\n",
      " [22.96093856]\n",
      " [10.08094872]\n",
      " [ 3.87812801]]\n",
      "(100, 1)\n"
     ]
    }
   ],
   "source": [
    "x1=6*np.random.rand(100,1)\n",
    "print(x1)\n",
    "y1=0.5*x1+x1**2+np.random.rand(100,1)\n",
    "print(y1)\n",
    "print(x1.shape)"
   ]
  },
  {
   "cell_type": "code",
   "execution_count": 26,
   "metadata": {},
   "outputs": [],
   "source": [
    "import matplotlib.pyplot as plt"
   ]
  },
  {
   "cell_type": "code",
   "execution_count": 27,
   "metadata": {},
   "outputs": [
    {
     "name": "stdout",
     "output_type": "stream",
     "text": [
      "(100, 1)\n"
     ]
    }
   ],
   "source": [
    "print(y1.shape)"
   ]
  },
  {
   "cell_type": "code",
   "execution_count": 28,
   "metadata": {},
   "outputs": [
    {
     "data": {
      "text/plain": [
       "[<matplotlib.lines.Line2D at 0x9cee390>]"
      ]
     },
     "execution_count": 28,
     "metadata": {},
     "output_type": "execute_result"
    },
    {
     "data": {
      "image/png": "[encoded data removed]",
      "text/plain": [
       "<Figure size 432x288 with 1 Axes>"
      ]
     },
     "metadata": {
      "needs_background": "light"
     },
     "output_type": "display_data"
    }
   ],
   "source": [
    "plt.plot(x1,y1,'.')"
   ]
  },
  {
   "cell_type": "code",
   "execution_count": 31,
   "metadata": {},
   "outputs": [],
   "source": [
    "poly=PolynomialFeatures()"
   ]
  },
  {
   "cell_type": "code",
   "execution_count": 35,
   "metadata": {},
   "outputs": [
    {
     "data": {
      "text/plain": [
       "array([[1.00000000e+00, 2.98330803e+00, 8.90012682e+00],\n",
       "       [1.00000000e+00, 2.33714776e+00, 5.46225966e+00],\n",
       "       [1.00000000e+00, 2.71948471e+00, 7.39559706e+00],\n",
       "       [1.00000000e+00, 2.19994513e+00, 4.83975858e+00],\n",
       "       [1.00000000e+00, 8.75504416e-01, 7.66507982e-01],\n",
       "       [1.00000000e+00, 3.28564809e+00, 1.07954834e+01],\n",
       "       [1.00000000e+00, 3.10446821e+00, 9.63772288e+00],\n",
       "       [1.00000000e+00, 2.39696433e+00, 5.74543799e+00],\n",
       "       [1.00000000e+00, 4.06929928e+00, 1.65591966e+01],\n",
       "       [1.00000000e+00, 1.50225563e+00, 2.25677199e+00],\n",
       "       [1.00000000e+00, 3.65856147e+00, 1.33850721e+01],\n",
       "       [1.00000000e+00, 1.51889041e+00, 2.30702807e+00],\n",
       "       [1.00000000e+00, 3.29836175e+00, 1.08791902e+01],\n",
       "       [1.00000000e+00, 4.79157830e+00, 2.29592226e+01],\n",
       "       [1.00000000e+00, 1.13059189e+00, 1.27823801e+00],\n",
       "       [1.00000000e+00, 3.23408717e+00, 1.04593198e+01],\n",
       "       [1.00000000e+00, 5.58346487e+00, 3.11750800e+01],\n",
       "       [1.00000000e+00, 4.84939110e+00, 2.35165940e+01],\n",
       "       [1.00000000e+00, 5.19978183e-01, 2.70377311e-01],\n",
       "       [1.00000000e+00, 1.91989429e+00, 3.68599408e+00],\n",
       "       [1.00000000e+00, 2.15571316e+00, 4.64709923e+00],\n",
       "       [1.00000000e+00, 2.34633437e+00, 5.50528495e+00],\n",
       "       [1.00000000e+00, 1.34882529e+00, 1.81932967e+00],\n",
       "       [1.00000000e+00, 4.75124219e+00, 2.25743023e+01],\n",
       "       [1.00000000e+00, 2.18073835e+00, 4.75561974e+00],\n",
       "       [1.00000000e+00, 4.84868950e+00, 2.35097898e+01],\n",
       "       [1.00000000e+00, 4.44898583e+00, 1.97934749e+01],\n",
       "       [1.00000000e+00, 2.01087066e+00, 4.04360080e+00],\n",
       "       [1.00000000e+00, 5.27103417e+00, 2.77838012e+01],\n",
       "       [1.00000000e+00, 5.66780258e+00, 3.21239861e+01],\n",
       "       [1.00000000e+00, 5.72581430e+00, 3.27849494e+01],\n",
       "       [1.00000000e+00, 4.80159515e+00, 2.30553160e+01],\n",
       "       [1.00000000e+00, 2.20870542e+00, 4.87837962e+00],\n",
       "       [1.00000000e+00, 2.60950040e+00, 6.80949235e+00],\n",
       "       [1.00000000e+00, 5.59673337e+00, 3.13234244e+01],\n",
       "       [1.00000000e+00, 5.74370235e+00, 3.29901167e+01],\n",
       "       [1.00000000e+00, 4.43803972e+00, 1.96961966e+01],\n",
       "       [1.00000000e+00, 5.34038414e+00, 2.85197027e+01],\n",
       "       [1.00000000e+00, 4.78076767e-01, 2.28557395e-01],\n",
       "       [1.00000000e+00, 9.62103636e-02, 9.25643407e-03],\n",
       "       [1.00000000e+00, 4.78534425e+00, 2.28995196e+01],\n",
       "       [1.00000000e+00, 5.19551141e+00, 2.69933388e+01],\n",
       "       [1.00000000e+00, 8.19878753e-01, 6.72201169e-01],\n",
       "       [1.00000000e+00, 2.70617988e+00, 7.32340953e+00],\n",
       "       [1.00000000e+00, 1.02908557e+00, 1.05901712e+00],\n",
       "       [1.00000000e+00, 5.69672208e+00, 3.24526425e+01],\n",
       "       [1.00000000e+00, 3.83213888e+00, 1.46852884e+01],\n",
       "       [1.00000000e+00, 2.78287834e-01, 7.74441185e-02],\n",
       "       [1.00000000e+00, 4.74552670e+00, 2.25200237e+01],\n",
       "       [1.00000000e+00, 1.92529333e+00, 3.70675440e+00],\n",
       "       [1.00000000e+00, 2.42613827e+00, 5.88614693e+00],\n",
       "       [1.00000000e+00, 4.08418907e+00, 1.66806004e+01],\n",
       "       [1.00000000e+00, 3.95864491e-01, 1.56708695e-01],\n",
       "       [1.00000000e+00, 4.46478118e+00, 1.99342710e+01],\n",
       "       [1.00000000e+00, 2.70376119e+00, 7.31032459e+00],\n",
       "       [1.00000000e+00, 5.72184603e+00, 3.27395220e+01],\n",
       "       [1.00000000e+00, 5.77631945e+00, 3.33658664e+01],\n",
       "       [1.00000000e+00, 5.90213722e+00, 3.48352238e+01],\n",
       "       [1.00000000e+00, 3.97838354e+00, 1.58275356e+01],\n",
       "       [1.00000000e+00, 1.41989240e+00, 2.01609442e+00],\n",
       "       [1.00000000e+00, 4.59875684e+00, 2.11485645e+01],\n",
       "       [1.00000000e+00, 3.50068783e-01, 1.22548153e-01],\n",
       "       [1.00000000e+00, 5.25533074e+00, 2.76185012e+01],\n",
       "       [1.00000000e+00, 2.84824040e+00, 8.11247337e+00],\n",
       "       [1.00000000e+00, 1.36765471e+00, 1.87047940e+00],\n",
       "       [1.00000000e+00, 1.61204968e+00, 2.59870416e+00],\n",
       "       [1.00000000e+00, 1.65132146e+00, 2.72686256e+00],\n",
       "       [1.00000000e+00, 4.13039128e+00, 1.70601321e+01],\n",
       "       [1.00000000e+00, 1.95996497e+00, 3.84146268e+00],\n",
       "       [1.00000000e+00, 2.21786454e+00, 4.91892311e+00],\n",
       "       [1.00000000e+00, 3.45578619e+00, 1.19424582e+01],\n",
       "       [1.00000000e+00, 3.58791191e+00, 1.28731119e+01],\n",
       "       [1.00000000e+00, 6.88227599e-01, 4.73657228e-01],\n",
       "       [1.00000000e+00, 3.67047602e-01, 1.34723942e-01],\n",
       "       [1.00000000e+00, 4.27281881e+00, 1.82569806e+01],\n",
       "       [1.00000000e+00, 1.88798872e-01, 3.56450139e-02],\n",
       "       [1.00000000e+00, 7.11031750e-01, 5.05566150e-01],\n",
       "       [1.00000000e+00, 1.51109172e-01, 2.28339819e-02],\n",
       "       [1.00000000e+00, 1.76956515e+00, 3.13136082e+00],\n",
       "       [1.00000000e+00, 8.67406764e-01, 7.52394494e-01],\n",
       "       [1.00000000e+00, 2.19719343e+00, 4.82765896e+00],\n",
       "       [1.00000000e+00, 5.35980525e+00, 2.87275123e+01],\n",
       "       [1.00000000e+00, 3.79057943e+00, 1.43684924e+01],\n",
       "       [1.00000000e+00, 1.05375146e+00, 1.11039215e+00],\n",
       "       [1.00000000e+00, 3.05620242e+00, 9.34037320e+00],\n",
       "       [1.00000000e+00, 5.83155656e+00, 3.40070519e+01],\n",
       "       [1.00000000e+00, 8.86495714e-01, 7.85874651e-01],\n",
       "       [1.00000000e+00, 2.15847333e+00, 4.65900712e+00],\n",
       "       [1.00000000e+00, 5.78955965e+00, 3.35190010e+01],\n",
       "       [1.00000000e+00, 2.28407465e+00, 5.21699699e+00],\n",
       "       [1.00000000e+00, 2.80922045e-02, 7.89171953e-04],\n",
       "       [1.00000000e+00, 5.60740872e+00, 3.14430326e+01],\n",
       "       [1.00000000e+00, 4.30495244e-01, 1.85326155e-01],\n",
       "       [1.00000000e+00, 5.94283761e-01, 3.53173188e-01],\n",
       "       [1.00000000e+00, 2.23558565e+00, 4.99784320e+00],\n",
       "       [1.00000000e+00, 3.05688481e+00, 9.34454473e+00],\n",
       "       [1.00000000e+00, 2.53795567e+00, 6.44121899e+00],\n",
       "       [1.00000000e+00, 4.53699597e+00, 2.05843324e+01],\n",
       "       [1.00000000e+00, 2.78461788e+00, 7.75409676e+00],\n",
       "       [1.00000000e+00, 1.63602138e+00, 2.67656596e+00]])"
      ]
     },
     "execution_count": 35,
     "metadata": {},
     "output_type": "execute_result"
    }
   ],
   "source": [
    "x_poly=poly.fit_transform(x1)\n",
    "x_poly"
   ]
  },
  {
   "cell_type": "code",
   "execution_count": 36,
   "metadata": {},
   "outputs": [
    {
     "data": {
      "text/plain": [
       "array([2.98330803])"
      ]
     },
     "execution_count": 36,
     "metadata": {},
     "output_type": "execute_result"
    }
   ],
   "source": [
    "x1[0]"
   ]
  },
  {
   "cell_type": "code",
   "execution_count": 37,
   "metadata": {},
   "outputs": [
    {
     "data": {
      "text/plain": [
       "array([1.        , 2.98330803, 8.90012682])"
      ]
     },
     "execution_count": 37,
     "metadata": {},
     "output_type": "execute_result"
    }
   ],
   "source": [
    "x_poly[0]"
   ]
  },
  {
   "cell_type": "code",
   "execution_count": 38,
   "metadata": {},
   "outputs": [
    {
     "data": {
      "text/plain": [
       "array([2.19994513])"
      ]
     },
     "execution_count": 38,
     "metadata": {},
     "output_type": "execute_result"
    }
   ],
   "source": [
    "x1[3]"
   ]
  },
  {
   "cell_type": "code",
   "execution_count": 39,
   "metadata": {},
   "outputs": [
    {
     "data": {
      "text/plain": [
       "array([1.        , 2.19994513, 4.83975858])"
      ]
     },
     "execution_count": 39,
     "metadata": {},
     "output_type": "execute_result"
    }
   ],
   "source": [
    "x_poly[3]"
   ]
  },
  {
   "cell_type": "code",
   "execution_count": 40,
   "metadata": {},
   "outputs": [
    {
     "data": {
      "text/plain": [
       "PolynomialFeatures(degree=2, include_bias=True, interaction_only=False,\n",
       "                   order='C')"
      ]
     },
     "execution_count": 40,
     "metadata": {},
     "output_type": "execute_result"
    }
   ],
   "source": [
    "poly.fit(x1,y1)"
   ]
  },
  {
   "cell_type": "code",
   "execution_count": 42,
   "metadata": {},
   "outputs": [
    {
     "data": {
      "text/plain": [
       "PolynomialFeatures(degree=2, include_bias=True, interaction_only=False,\n",
       "                   order='C')"
      ]
     },
     "execution_count": 42,
     "metadata": {},
     "output_type": "execute_result"
    }
   ],
   "source": [
    "poly.fit(x_poly,y1)"
   ]
  },
  {
   "cell_type": "code",
   "execution_count": 43,
   "metadata": {},
   "outputs": [
    {
     "data": {
      "text/plain": [
       "sklearn.linear_model.base.LinearRegression"
      ]
     },
     "execution_count": 43,
     "metadata": {},
     "output_type": "execute_result"
    }
   ],
   "source": [
    "from sklearn.linear_model import LinearRegression\n",
    "a=LinearRegression\n",
    "a"
   ]
  },
  {
   "cell_type": "code",
   "execution_count": 47,
   "metadata": {},
   "outputs": [
    {
     "ename": "NameError",
     "evalue": "name 'y' is not defined",
     "output_type": "error",
     "traceback": [
      "\u001b[1;31m---------------------------------------------------------------------------\u001b[0m",
      "\u001b[1;31mNameError\u001b[0m                                 Traceback (most recent call last)",
      "\u001b[1;32m<ipython-input-47-f6eae12febde>\u001b[0m in \u001b[0;36m<module>\u001b[1;34m\u001b[0m\n\u001b[1;32m----> 1\u001b[1;33m \u001b[0ma\u001b[0m\u001b[1;33m.\u001b[0m\u001b[0mfit\u001b[0m\u001b[1;33m(\u001b[0m\u001b[0mx_poly\u001b[0m\u001b[1;33m,\u001b[0m\u001b[0my\u001b[0m\u001b[1;33m)\u001b[0m\u001b[1;33m\u001b[0m\u001b[1;33m\u001b[0m\u001b[0m\n\u001b[0m",
      "\u001b[1;31mNameError\u001b[0m: name 'y' is not defined"
     ]
    }
   ],
   "source": [
    "a.fit(x_poly,y)"
   ]
  },
  {
   "cell_type": "code",
   "execution_count": 46,
   "metadata": {},
   "outputs": [
    {
     "ename": "AttributeError",
     "evalue": "type object 'LinearRegression' has no attribute 'intercept_'",
     "output_type": "error",
     "traceback": [
      "\u001b[1;31m---------------------------------------------------------------------------\u001b[0m",
      "\u001b[1;31mAttributeError\u001b[0m                            Traceback (most recent call last)",
      "\u001b[1;32m<ipython-input-46-89b57a64b7c4>\u001b[0m in \u001b[0;36m<module>\u001b[1;34m\u001b[0m\n\u001b[1;32m----> 1\u001b[1;33m \u001b[0ma\u001b[0m\u001b[1;33m.\u001b[0m\u001b[0mintercept_\u001b[0m\u001b[1;33m\u001b[0m\u001b[1;33m\u001b[0m\u001b[0m\n\u001b[0m",
      "\u001b[1;31mAttributeError\u001b[0m: type object 'LinearRegression' has no attribute 'intercept_'"
     ]
    }
   ],
   "source": [
    "a.intercept_"
   ]
  },
  {
   "cell_type": "code",
   "execution_count": 23,
   "metadata": {},
   "outputs": [
    {
     "ename": "AttributeError",
     "evalue": "type object 'LinearRegression' has no attribute 'coef_'",
     "output_type": "error",
     "traceback": [
      "\u001b[1;31m---------------------------------------------------------------------------\u001b[0m",
      "\u001b[1;31mAttributeError\u001b[0m                            Traceback (most recent call last)",
      "\u001b[1;32m<ipython-input-23-d4cab61fdc69>\u001b[0m in \u001b[0;36m<module>\u001b[1;34m\u001b[0m\n\u001b[1;32m----> 1\u001b[1;33m \u001b[0ma\u001b[0m\u001b[1;33m.\u001b[0m\u001b[0mcoef_\u001b[0m\u001b[1;33m\u001b[0m\u001b[1;33m\u001b[0m\u001b[0m\n\u001b[0m",
      "\u001b[1;31mAttributeError\u001b[0m: type object 'LinearRegression' has no attribute 'coef_'"
     ]
    }
   ],
   "source": [
    "a.coef_"
   ]
  },
  {
   "cell_type": "code",
   "execution_count": 24,
   "metadata": {},
   "outputs": [
    {
     "ename": "NameError",
     "evalue": "name 'x_poly' is not defined",
     "output_type": "error",
     "traceback": [
      "\u001b[1;31m---------------------------------------------------------------------------\u001b[0m",
      "\u001b[1;31mNameError\u001b[0m                                 Traceback (most recent call last)",
      "\u001b[1;32m<ipython-input-24-d4941b6beccf>\u001b[0m in \u001b[0;36m<module>\u001b[1;34m\u001b[0m\n\u001b[1;32m----> 1\u001b[1;33m \u001b[0my_predictions\u001b[0m\u001b[1;33m=\u001b[0m\u001b[0ma\u001b[0m\u001b[1;33m.\u001b[0m\u001b[0mpredict\u001b[0m\u001b[1;33m(\u001b[0m\u001b[0mx_poly\u001b[0m\u001b[1;33m)\u001b[0m\u001b[1;33m\u001b[0m\u001b[1;33m\u001b[0m\u001b[0m\n\u001b[0m\u001b[0;32m      2\u001b[0m \u001b[0my_predictions\u001b[0m\u001b[1;33m\u001b[0m\u001b[1;33m\u001b[0m\u001b[0m\n",
      "\u001b[1;31mNameError\u001b[0m: name 'x_poly' is not defined"
     ]
    }
   ],
   "source": [
    "y_predictions=a.predict(x_poly)\n",
    "y_predictions\n"
   ]
  },
  {
   "cell_type": "code",
   "execution_count": 25,
   "metadata": {},
   "outputs": [
    {
     "ename": "NameError",
     "evalue": "name 'plt' is not defined",
     "output_type": "error",
     "traceback": [
      "\u001b[1;31m---------------------------------------------------------------------------\u001b[0m",
      "\u001b[1;31mNameError\u001b[0m                                 Traceback (most recent call last)",
      "\u001b[1;32m<ipython-input-25-cd653b2c8062>\u001b[0m in \u001b[0;36m<module>\u001b[1;34m\u001b[0m\n\u001b[1;32m----> 1\u001b[1;33m \u001b[0mplt\u001b[0m\u001b[1;33m\u001b[0m\u001b[1;33m\u001b[0m\u001b[0m\n\u001b[0m",
      "\u001b[1;31mNameError\u001b[0m: name 'plt' is not defined"
     ]
    }
   ],
   "source": [
    "plt"
   ]
  },
  {
   "cell_type": "code",
   "execution_count": null,
   "metadata": {},
   "outputs": [],
   "source": []
  },
  {
   "cell_type": "code",
   "execution_count": null,
   "metadata": {},
   "outputs": [],
   "source": []
  }
 ],
 "metadata": {
  "kernelspec": {
   "display_name": "Python 3",
   "language": "python",
   "name": "python3"
  },
  "language_info": {
   "codemirror_mode": {
    "name": "ipython",
    "version": 3
   },
   "file_extension": ".py",
   "mimetype": "text/x-python",
   "name": "python",
   "nbconvert_exporter": "python",
   "pygments_lexer": "ipython3",
   "version": "3.7.3"
  }
 },
 "nbformat": 4,
 "nbformat_minor": 2
}
