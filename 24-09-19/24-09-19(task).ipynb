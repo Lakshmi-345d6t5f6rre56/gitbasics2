{
 "cells": [
  {
   "cell_type": "code",
   "execution_count": null,
   "metadata": {},
   "outputs": [],
   "source": []
  },
  {
   "cell_type": "code",
   "execution_count": 8,
   "metadata": {},
   "outputs": [
    {
     "ename": "SyntaxError",
     "evalue": "invalid syntax (<ipython-input-8-49418e49a07f>, line 1)",
     "output_type": "error",
     "traceback": [
      "\u001b[1;36m  File \u001b[1;32m\"<ipython-input-8-49418e49a07f>\"\u001b[1;36m, line \u001b[1;32m1\u001b[0m\n\u001b[1;33m    def range(a,lb,ub)\u001b[0m\n\u001b[1;37m                      ^\u001b[0m\n\u001b[1;31mSyntaxError\u001b[0m\u001b[1;31m:\u001b[0m invalid syntax\n"
     ]
    }
   ],
   "source": [
    "def range(a,lb,ub)\n",
    "    if(a>lb>ub)\n",
    "    print(\"pressent\")\n",
    "else\n",
    "    print(\"not pressent\")\n",
    "a=(input()\n",
    "lb=input()\n",
    "ub=input()\n",
    "range(a,lb,ub)\n"
   ]
  },
  {
   "cell_type": "code",
   "execution_count": 6,
   "metadata": {},
   "outputs": [
    {
     "name": "stdout",
     "output_type": "stream",
     "text": [
      "20\n",
      "10\n",
      "15\n",
      "oldest 20\n",
      "youngest 15\n"
     ]
    }
   ],
   "source": [
    "def age(a,b,c):\n",
    "    if a>b and a>c:\n",
    "        oldest=a\n",
    "    elif b>a and b>c:\n",
    "        oldest=b\n",
    "    else:\n",
    "        oldest=c\n",
    "    if a<b and a<c:\n",
    "        youngest=a\n",
    "    elif b>a and b>c:\n",
    "        youngest=b\n",
    "    else:\n",
    "        youngest=c\n",
    "    print(\"oldest\",oldest)\n",
    "    print(\"youngest\",youngest)\n",
    "a=int(input())\n",
    "b=int(input())\n",
    "c=int(input())\n",
    "age(a,b,c) \n",
    "        \n"
   ]
  },
  {
   "cell_type": "code",
   "execution_count": 9,
   "metadata": {},
   "outputs": [
    {
     "name": "stdout",
     "output_type": "stream",
     "text": [
      "30\n",
      "50\n",
      "eligible\n"
     ]
    }
   ],
   "source": [
    "def std(a,b):\n",
    "    x=a/b*100\n",
    "    a=int(input())\n",
    "    b=int(input())\n",
    "    if(x>75):\n",
    "        print(\"eligible\")\n",
    "    else:\n",
    "        print(\"not eligible\")\n",
    "std(a,b)"
   ]
  },
  {
   "cell_type": "code",
   "execution_count": null,
   "metadata": {},
   "outputs": [],
   "source": []
  }
 ],
 "metadata": {
  "kernelspec": {
   "display_name": "Python 3",
   "language": "python",
   "name": "python3"
  },
  "language_info": {
   "codemirror_mode": {
    "name": "ipython",
    "version": 3
   },
   "file_extension": ".py",
   "mimetype": "text/x-python",
   "name": "python",
   "nbconvert_exporter": "python",
   "pygments_lexer": "ipython3",
   "version": "3.7.3"
  }
 },
 "nbformat": 4,
 "nbformat_minor": 2
}
