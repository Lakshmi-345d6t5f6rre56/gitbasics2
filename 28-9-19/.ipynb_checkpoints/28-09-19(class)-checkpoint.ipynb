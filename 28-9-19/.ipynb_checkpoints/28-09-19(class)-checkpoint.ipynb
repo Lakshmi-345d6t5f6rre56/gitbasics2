{
 "cells": [
  {
   "cell_type": "markdown",
   "metadata": {},
   "source": [
    "#### additive inverse"
   ]
  },
  {
   "cell_type": "code",
   "execution_count": 2,
   "metadata": {},
   "outputs": [
    {
     "name": "stdout",
     "output_type": "stream",
     "text": [
      "2\n",
      "-5 9 8 -10 -78 -100 10\n",
      "166\n",
      "-89 9 81 78 -99 -1 -989\n",
      "1010\n"
     ]
    }
   ],
   "source": [
    "n=int(input())\n",
    "for i in range(1,n+1):\n",
    "    x=list(map(int,input().split()))\n",
    "    a=0\n",
    "    for i in x:\n",
    "        if i>0:\n",
    "            a=a+(-1*i)\n",
    "        elif i<0:\n",
    "            a=a+(-1*i)\n",
    "    print(a)\n"
   ]
  },
  {
   "cell_type": "markdown",
   "metadata": {},
   "source": [
    "### pandigital"
   ]
  },
  {
   "cell_type": "code",
   "execution_count": 3,
   "metadata": {},
   "outputs": [
    {
     "name": "stdout",
     "output_type": "stream",
     "text": [
      "2\n",
      "9876476267091776573\n",
      "True\n",
      "12344678087653\n",
      "False\n"
     ]
    }
   ],
   "source": [
    "n=int(input())\n",
    "for i in range(1,n+1):\n",
    "    a=input()\n",
    "    b=('0','1','2','3','4','5','6','7','8','9')\n",
    "    count=0\n",
    "    for j in b:\n",
    "        if j in a:\n",
    "            count+=1\n",
    "    if(count==10):\n",
    "        print(\"True\")\n",
    "    else:\n",
    "        print(\"False\")"
   ]
  },
  {
   "cell_type": "code",
   "execution_count": 6,
   "metadata": {},
   "outputs": [
    {
     "name": "stdout",
     "output_type": "stream",
     "text": [
      "A\n"
     ]
    }
   ],
   "source": [
    "\"HRG\"\n",
    "print(chr(65))"
   ]
  },
  {
   "cell_type": "code",
   "execution_count": 9,
   "metadata": {},
   "outputs": [
    {
     "name": "stdout",
     "output_type": "stream",
     "text": [
      "65\n"
     ]
    }
   ],
   "source": [
    "print(ord(\"A\"))"
   ]
  },
  {
   "cell_type": "code",
   "execution_count": 23,
   "metadata": {},
   "outputs": [
    {
     "name": "stdout",
     "output_type": "stream",
     "text": [
      "459\n"
     ]
    }
   ],
   "source": [
    "\"kvsw\"\n",
    "n=input()\n",
    "s=0\n",
    "for i in na:\n",
    "    s=s+ord(i)\n",
    "print(s)\n",
    "    "
   ]
  },
  {
   "cell_type": "code",
   "execution_count": 29,
   "metadata": {},
   "outputs": [
    {
     "name": "stdout",
     "output_type": "stream",
     "text": [
      "552\n"
     ]
    }
   ],
   "source": [
    "x=\"lucky\"\n",
    "s=0\n",
    "for i in x:\n",
    "    s=s+ord(i)\n",
    "print(s)\n",
    "   \n",
    "    "
   ]
  },
  {
   "cell_type": "markdown",
   "metadata": {},
   "source": [
    "#### alphabet encryption"
   ]
  },
  {
   "cell_type": "code",
   "execution_count": 41,
   "metadata": {},
   "outputs": [
    {
     "name": "stdout",
     "output_type": "stream",
     "text": [
      "hai\n",
      "ibj"
     ]
    }
   ],
   "source": [
    "a=input()\n",
    "for i in a:\n",
    "    b=ord(i)+1\n",
    "    print(chr(b),end=\"\")"
   ]
  },
  {
   "cell_type": "markdown",
   "metadata": {},
   "source": [
    "#### fibanocci series"
   ]
  },
  {
   "cell_type": "code",
   "execution_count": 35,
   "metadata": {},
   "outputs": [
    {
     "name": "stdout",
     "output_type": "stream",
     "text": [
      "4\n",
      "0 1 1 2 "
     ]
    }
   ],
   "source": [
    "# 0 1 1 2 3 5 8\n",
    "a=0\n",
    "b=1\n",
    "n=int(input())\n",
    "for i in range(n):\n",
    "    print(a,end=\" \")\n",
    "    c=a+b\n",
    "    a=b\n",
    "    b=c"
   ]
  },
  {
   "cell_type": "markdown",
   "metadata": {},
   "source": [
    "### sum of perfect numbers in a given range"
   ]
  },
  {
   "cell_type": "code",
   "execution_count": 44,
   "metadata": {},
   "outputs": [
    {
     "name": "stdout",
     "output_type": "stream",
     "text": [
      "1\n",
      "30\n",
      "0\n"
     ]
    }
   ],
   "source": [
    "def perfect(n):\n",
    "    s=0\n",
    "    for i in range(1,n):\n",
    "        if(n%i==0):\n",
    "            s=s+1\n",
    "            if s==n:\n",
    "                return 1\n",
    "            else:\n",
    "                return 0\n",
    "lb=int(input())\n",
    "ub=int(input())\n",
    "s1=0\n",
    "for i in range(lb,ub+1):\n",
    "    if perfect(i)==1:\n",
    "        s1=s1+i\n",
    "print(s1)\n",
    "\n",
    "            "
   ]
  },
  {
   "cell_type": "code",
   "execution_count": null,
   "metadata": {},
   "outputs": [],
   "source": []
  }
 ],
 "metadata": {
  "kernelspec": {
   "display_name": "Python 3",
   "language": "python",
   "name": "python3"
  },
  "language_info": {
   "codemirror_mode": {
    "name": "ipython",
    "version": 3
   },
   "file_extension": ".py",
   "mimetype": "text/x-python",
   "name": "python",
   "nbconvert_exporter": "python",
   "pygments_lexer": "ipython3",
   "version": "3.7.3"
  }
 },
 "nbformat": 4,
 "nbformat_minor": 2
}
